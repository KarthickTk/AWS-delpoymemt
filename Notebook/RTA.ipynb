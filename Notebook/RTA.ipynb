{
 "cells": [
  {
   "cell_type": "code",
   "execution_count": 4,
   "metadata": {},
   "outputs": [],
   "source": [
    "import numpy as np\n",
    "import pandas as pd\n",
    "import matplotlib.pyplot as plt\n",
    "import seaborn as sns\n",
    "\n",
    "import plotly.express as px\n",
    "import plotly.offline as py\n",
    "import plotly.graph_objs as go\n",
    "import plotly.tools as tls\n",
    "import plotly.figure_factory as ff\n",
    "\n",
    "from collections import Counter\n",
    "\n",
    "from sklearn.model_selection import cross_val_score, StratifiedKFold, KFold\n",
    "from sklearn.feature_selection import SelectKBest\n",
    "from sklearn.feature_selection import chi2\n",
    "from sklearn.model_selection import train_test_split, GridSearchCV\n",
    "\n",
    "from sklearn.metrics import (accuracy_score, \n",
    "                            classification_report,\n",
    "                            recall_score, precision_score, f1_score,\n",
    "                            confusion_matrix)\n",
    "\n",
    "from xgboost import XGBClassifier\n",
    "from sklearn.ensemble import ExtraTreesClassifier\n",
    "from sklearn.ensemble import RandomForestClassifier\n",
    "\n",
    "# !pip install --quiet shap==0.39.0\n",
    "import shap\n",
    "\n",
    "%matplotlib inline\n",
    "\n",
    "sns.set_style('darkgrid')\n",
    "pd. set_option(\"display.max_columns\", None)\n",
    "\n",
    "import warnings\n",
    "warnings.filterwarnings('ignore')"
   ]
  },
  {
   "cell_type": "code",
   "execution_count": 60,
   "metadata": {},
   "outputs": [
    {
     "name": "stdout",
     "output_type": "stream",
     "text": [
      "^C\n",
      "Collecting xgboost==0.90\n",
      "  Downloading xgboost-0.90-py2.py3-none-win_amd64.whl (18.3 MB)\n",
      "Requirement already satisfied: scipy in c:\\users\\karthick\\anaconda3\\lib\\site-packages (from xgboost==0.90) (1.7.3)\n",
      "Requirement already satisfied: numpy in c:\\users\\karthick\\anaconda3\\lib\\site-packages (from xgboost==0.90) (1.21.5)\n",
      "Installing collected packages: xgboost\n",
      "  Attempting uninstall: xgboost\n",
      "    Found existing installation: xgboost 1.6.1\n",
      "    Uninstalling xgboost-1.6.1:\n",
      "      Successfully uninstalled xgboost-1.6.1\n"
     ]
    },
    {
     "name": "stderr",
     "output_type": "stream",
     "text": [
      "ERROR: Could not install packages due to an OSError: [WinError 5] Access is denied: 'C:\\\\Users\\\\Karthick\\\\anaconda3\\\\Lib\\\\site-packages\\\\~gboost\\\\lib\\\\xgboost.dll'\n",
      "Consider using the `--user` option or check the permissions.\n",
      "\n"
     ]
    }
   ],
   "source": [
    "!pip uninstall xgboost \n",
    "\n",
    "!pip install xgboost==0.90"
   ]
  },
  {
   "cell_type": "code",
   "execution_count": 63,
   "metadata": {},
   "outputs": [
    {
     "name": "stdout",
     "output_type": "stream",
     "text": [
      "Requirement already satisfied: xgboost==0.90 in c:\\users\\karthick\\anaconda3\\lib\\site-packages (0.90)\n",
      "Requirement already satisfied: scipy in c:\\users\\karthick\\anaconda3\\lib\\site-packages (from xgboost==0.90) (1.7.3)\n",
      "Requirement already satisfied: numpy in c:\\users\\karthick\\anaconda3\\lib\\site-packages (from xgboost==0.90) (1.21.5)\n"
     ]
    }
   ],
   "source": [
    "!pip install xgboost==0.90"
   ]
  },
  {
   "cell_type": "code",
   "execution_count": 61,
   "metadata": {},
   "outputs": [],
   "source": [
    "from xgboost import XGBClassifier"
   ]
  },
  {
   "cell_type": "code",
   "execution_count": 64,
   "metadata": {},
   "outputs": [
    {
     "ename": "NameError",
     "evalue": "name 'xgboost' is not defined",
     "output_type": "error",
     "traceback": [
      "\u001b[1;31m---------------------------------------------------------------------------\u001b[0m",
      "\u001b[1;31mNameError\u001b[0m                                 Traceback (most recent call last)",
      "\u001b[1;32mc:\\Users\\Karthick\\NLP\\RTA-project1-main\\Notebook\\RTA.ipynb Cell 5\u001b[0m in \u001b[0;36m<cell line: 1>\u001b[1;34m()\u001b[0m\n\u001b[1;32m----> <a href='vscode-notebook-cell:/c%3A/Users/Karthick/NLP/RTA-project1-main/Notebook/RTA.ipynb#Y132sZmlsZQ%3D%3D?line=0'>1</a>\u001b[0m xgboost\u001b[39m.\u001b[39mversion_\n",
      "\u001b[1;31mNameError\u001b[0m: name 'xgboost' is not defined"
     ]
    }
   ],
   "source": [
    "xgboost.version_"
   ]
  },
  {
   "cell_type": "code",
   "execution_count": 23,
   "metadata": {},
   "outputs": [],
   "source": [
    "#Importing data\n",
    "df = pd.read_csv(\"C:\\\\Users\\\\Karthick\\\\NLP\\\\RTA-project1-main\\\\Dataset\\\\RTA Dataset.csv\")"
   ]
  },
  {
   "cell_type": "markdown",
   "metadata": {},
   "source": [
    "EXploratory data analysis"
   ]
  },
  {
   "cell_type": "code",
   "execution_count": 24,
   "metadata": {},
   "outputs": [
    {
     "data": {
      "text/plain": [
       "(12316, 32)"
      ]
     },
     "execution_count": 24,
     "metadata": {},
     "output_type": "execute_result"
    }
   ],
   "source": [
    "df.shape"
   ]
  },
  {
   "cell_type": "code",
   "execution_count": 18,
   "metadata": {},
   "outputs": [
    {
     "data": {
      "text/plain": [
       "Index(['version https://git-lfs.github.com/spec/v1'], dtype='object')"
      ]
     },
     "execution_count": 18,
     "metadata": {},
     "output_type": "execute_result"
    }
   ],
   "source": [
    "df.columns"
   ]
  },
  {
   "cell_type": "code",
   "execution_count": 25,
   "metadata": {},
   "outputs": [],
   "source": [
    "# renaming columns\n",
    "col_map={\n",
    "    'Time': 'time',\n",
    "    'Day_of_week': 'day_of_week',\n",
    "    'Age_band_of_driver': 'driver_age',\n",
    "    'Sex_of_driver': 'driver_sex',\n",
    "    'Educational_level': 'educational_level',\n",
    "    'Vehicle_driver_relation': 'vehicle_driver_relation',\n",
    "    'Driving_experience': 'driving_experience',\n",
    "    'Type_of_vehicle': 'vehicle_type',\n",
    "    'Owner_of_vehicle': 'vehicle_owner',\n",
    "    'Service_year_of_vehicle': 'service_year',\n",
    "    'Defect_of_vehicle': 'vehicle_defect',\n",
    "    'Area_accident_occured': 'accident_area',\n",
    "    'Lanes_or_Medians': 'lanes',\n",
    "    'Road_allignment': 'road_allignment',\n",
    "    'Types_of_Junction': 'junction_type',\n",
    "    'Road_surface_type': 'surface_type',\n",
    "    'Road_surface_conditions': 'road_surface_conditions',\n",
    "    'Light_conditions': 'light_condition',\n",
    "    'Weather_conditions': 'weather_condition',\n",
    "    'Type_of_collision': 'collision_type',\n",
    "    'Number_of_vehicles_involved': 'vehicles_involved',\n",
    "    'Number_of_casualties': 'casualties',\n",
    "    'Vehicle_movement': 'vehicle_movement',\n",
    "    'Casualty_class': 'casualty_class',\n",
    "    'Sex_of_casualty': 'casualty_sex' , \n",
    "    'Age_band_of_casualty': 'casualty_age', \n",
    "    'Casualty_severity': 'casualty_severity',\n",
    "    'Work_of_casuality': 'casualty_work', \n",
    "    'Fitness_of_casuality': 'casualty_fitness',\n",
    "    'Pedestrian_movement': 'pedestrian_movement',\n",
    "    'Cause_of_accident': 'accident_cause',\n",
    "    'Accident_severity': 'accident_severity'\n",
    "}\n",
    "df.rename(columns=col_map, inplace=True)"
   ]
  },
  {
   "cell_type": "code",
   "execution_count": 12,
   "metadata": {},
   "outputs": [],
   "source": [
    "df.rename(columns=col_map, inplace=True)"
   ]
  },
  {
   "cell_type": "code",
   "execution_count": 26,
   "metadata": {},
   "outputs": [],
   "source": [
    "#Converting time to datetime\n",
    "df['time'] = pd.to_datetime(df['time'])"
   ]
  },
  {
   "cell_type": "code",
   "execution_count": 27,
   "metadata": {},
   "outputs": [],
   "source": [
    "#Extracing hour and minutes from \"timestamp\"\n",
    "df['hour'] = df['time'].dt.hour\n",
    "df['minute'] = df['time'].dt.minute\n",
    "df.drop('time',axis=1, inplace=True)"
   ]
  },
  {
   "cell_type": "code",
   "execution_count": 11,
   "metadata": {},
   "outputs": [
    {
     "name": "stdout",
     "output_type": "stream",
     "text": [
      "<class 'pandas.core.frame.DataFrame'>\n",
      "RangeIndex: 12316 entries, 0 to 12315\n",
      "Data columns (total 33 columns):\n",
      " #   Column                   Non-Null Count  Dtype \n",
      "---  ------                   --------------  ----- \n",
      " 0   day_of_week              12316 non-null  object\n",
      " 1   driver_age               12316 non-null  object\n",
      " 2   driver_sex               12316 non-null  object\n",
      " 3   educational_level        11575 non-null  object\n",
      " 4   vehicle_driver_relation  11737 non-null  object\n",
      " 5   driving_experience       11487 non-null  object\n",
      " 6   vehicle_type             11366 non-null  object\n",
      " 7   vehicle_owner            11834 non-null  object\n",
      " 8   service_year             8388 non-null   object\n",
      " 9   vehicle_defect           7889 non-null   object\n",
      " 10  accident_area            12077 non-null  object\n",
      " 11  lanes                    11931 non-null  object\n",
      " 12  road_allignment          12174 non-null  object\n",
      " 13  junction_type            11429 non-null  object\n",
      " 14  surface_type             12144 non-null  object\n",
      " 15  road_surface_conditions  12316 non-null  object\n",
      " 16  light_condition          12316 non-null  object\n",
      " 17  weather_condition        12316 non-null  object\n",
      " 18  collision_type           12161 non-null  object\n",
      " 19  vehicles_involved        12316 non-null  int64 \n",
      " 20  casualties               12316 non-null  int64 \n",
      " 21  vehicle_movement         12008 non-null  object\n",
      " 22  casualty_class           12316 non-null  object\n",
      " 23  casualty_sex             12316 non-null  object\n",
      " 24  casualty_age             12316 non-null  object\n",
      " 25  casualty_severity        12316 non-null  object\n",
      " 26  casualty_work            9118 non-null   object\n",
      " 27  casualty_fitness         9681 non-null   object\n",
      " 28  pedestrian_movement      12316 non-null  object\n",
      " 29  accident_cause           12316 non-null  object\n",
      " 30  accident_severity        12316 non-null  object\n",
      " 31  hour                     12316 non-null  int64 \n",
      " 32  minute                   12316 non-null  int64 \n",
      "dtypes: int64(4), object(29)\n",
      "memory usage: 3.1+ MB\n"
     ]
    }
   ],
   "source": [
    "df.info()"
   ]
  },
  {
   "cell_type": "code",
   "execution_count": 28,
   "metadata": {},
   "outputs": [
    {
     "data": {
      "text/html": [
       "<div>\n",
       "<style scoped>\n",
       "    .dataframe tbody tr th:only-of-type {\n",
       "        vertical-align: middle;\n",
       "    }\n",
       "\n",
       "    .dataframe tbody tr th {\n",
       "        vertical-align: top;\n",
       "    }\n",
       "\n",
       "    .dataframe thead th {\n",
       "        text-align: right;\n",
       "    }\n",
       "</style>\n",
       "<table border=\"1\" class=\"dataframe\">\n",
       "  <thead>\n",
       "    <tr style=\"text-align: right;\">\n",
       "      <th></th>\n",
       "      <th>count</th>\n",
       "      <th>unique</th>\n",
       "      <th>top</th>\n",
       "      <th>freq</th>\n",
       "    </tr>\n",
       "  </thead>\n",
       "  <tbody>\n",
       "    <tr>\n",
       "      <th>day_of_week</th>\n",
       "      <td>12316</td>\n",
       "      <td>7</td>\n",
       "      <td>Friday</td>\n",
       "      <td>2041</td>\n",
       "    </tr>\n",
       "    <tr>\n",
       "      <th>driver_age</th>\n",
       "      <td>12316</td>\n",
       "      <td>5</td>\n",
       "      <td>18-30</td>\n",
       "      <td>4271</td>\n",
       "    </tr>\n",
       "    <tr>\n",
       "      <th>driver_sex</th>\n",
       "      <td>12316</td>\n",
       "      <td>3</td>\n",
       "      <td>Male</td>\n",
       "      <td>11437</td>\n",
       "    </tr>\n",
       "    <tr>\n",
       "      <th>educational_level</th>\n",
       "      <td>11575</td>\n",
       "      <td>7</td>\n",
       "      <td>Junior high school</td>\n",
       "      <td>7619</td>\n",
       "    </tr>\n",
       "    <tr>\n",
       "      <th>vehicle_driver_relation</th>\n",
       "      <td>11737</td>\n",
       "      <td>4</td>\n",
       "      <td>Employee</td>\n",
       "      <td>9627</td>\n",
       "    </tr>\n",
       "    <tr>\n",
       "      <th>driving_experience</th>\n",
       "      <td>11487</td>\n",
       "      <td>7</td>\n",
       "      <td>5-10yr</td>\n",
       "      <td>3363</td>\n",
       "    </tr>\n",
       "    <tr>\n",
       "      <th>vehicle_type</th>\n",
       "      <td>11366</td>\n",
       "      <td>17</td>\n",
       "      <td>Automobile</td>\n",
       "      <td>3205</td>\n",
       "    </tr>\n",
       "    <tr>\n",
       "      <th>vehicle_owner</th>\n",
       "      <td>11834</td>\n",
       "      <td>4</td>\n",
       "      <td>Owner</td>\n",
       "      <td>10459</td>\n",
       "    </tr>\n",
       "    <tr>\n",
       "      <th>service_year</th>\n",
       "      <td>8388</td>\n",
       "      <td>6</td>\n",
       "      <td>Unknown</td>\n",
       "      <td>2883</td>\n",
       "    </tr>\n",
       "    <tr>\n",
       "      <th>vehicle_defect</th>\n",
       "      <td>7889</td>\n",
       "      <td>3</td>\n",
       "      <td>No defect</td>\n",
       "      <td>7777</td>\n",
       "    </tr>\n",
       "    <tr>\n",
       "      <th>accident_area</th>\n",
       "      <td>12077</td>\n",
       "      <td>14</td>\n",
       "      <td>Other</td>\n",
       "      <td>3819</td>\n",
       "    </tr>\n",
       "    <tr>\n",
       "      <th>lanes</th>\n",
       "      <td>11931</td>\n",
       "      <td>7</td>\n",
       "      <td>Two-way (divided with broken lines road marking)</td>\n",
       "      <td>4411</td>\n",
       "    </tr>\n",
       "    <tr>\n",
       "      <th>road_allignment</th>\n",
       "      <td>12174</td>\n",
       "      <td>9</td>\n",
       "      <td>Tangent road with flat terrain</td>\n",
       "      <td>10459</td>\n",
       "    </tr>\n",
       "    <tr>\n",
       "      <th>junction_type</th>\n",
       "      <td>11429</td>\n",
       "      <td>8</td>\n",
       "      <td>Y Shape</td>\n",
       "      <td>4543</td>\n",
       "    </tr>\n",
       "    <tr>\n",
       "      <th>surface_type</th>\n",
       "      <td>12144</td>\n",
       "      <td>5</td>\n",
       "      <td>Asphalt roads</td>\n",
       "      <td>11296</td>\n",
       "    </tr>\n",
       "    <tr>\n",
       "      <th>road_surface_conditions</th>\n",
       "      <td>12316</td>\n",
       "      <td>4</td>\n",
       "      <td>Dry</td>\n",
       "      <td>9340</td>\n",
       "    </tr>\n",
       "    <tr>\n",
       "      <th>light_condition</th>\n",
       "      <td>12316</td>\n",
       "      <td>4</td>\n",
       "      <td>Daylight</td>\n",
       "      <td>8798</td>\n",
       "    </tr>\n",
       "    <tr>\n",
       "      <th>weather_condition</th>\n",
       "      <td>12316</td>\n",
       "      <td>9</td>\n",
       "      <td>Normal</td>\n",
       "      <td>10063</td>\n",
       "    </tr>\n",
       "    <tr>\n",
       "      <th>collision_type</th>\n",
       "      <td>12161</td>\n",
       "      <td>10</td>\n",
       "      <td>Vehicle with vehicle collision</td>\n",
       "      <td>8774</td>\n",
       "    </tr>\n",
       "    <tr>\n",
       "      <th>vehicle_movement</th>\n",
       "      <td>12008</td>\n",
       "      <td>13</td>\n",
       "      <td>Going straight</td>\n",
       "      <td>8158</td>\n",
       "    </tr>\n",
       "    <tr>\n",
       "      <th>casualty_class</th>\n",
       "      <td>12316</td>\n",
       "      <td>4</td>\n",
       "      <td>Driver or rider</td>\n",
       "      <td>4944</td>\n",
       "    </tr>\n",
       "    <tr>\n",
       "      <th>casualty_sex</th>\n",
       "      <td>12316</td>\n",
       "      <td>3</td>\n",
       "      <td>Male</td>\n",
       "      <td>5253</td>\n",
       "    </tr>\n",
       "    <tr>\n",
       "      <th>casualty_age</th>\n",
       "      <td>12316</td>\n",
       "      <td>6</td>\n",
       "      <td>na</td>\n",
       "      <td>4443</td>\n",
       "    </tr>\n",
       "    <tr>\n",
       "      <th>casualty_severity</th>\n",
       "      <td>12316</td>\n",
       "      <td>4</td>\n",
       "      <td>3</td>\n",
       "      <td>7076</td>\n",
       "    </tr>\n",
       "    <tr>\n",
       "      <th>casualty_work</th>\n",
       "      <td>9118</td>\n",
       "      <td>7</td>\n",
       "      <td>Driver</td>\n",
       "      <td>5903</td>\n",
       "    </tr>\n",
       "    <tr>\n",
       "      <th>casualty_fitness</th>\n",
       "      <td>9681</td>\n",
       "      <td>5</td>\n",
       "      <td>Normal</td>\n",
       "      <td>9608</td>\n",
       "    </tr>\n",
       "    <tr>\n",
       "      <th>pedestrian_movement</th>\n",
       "      <td>12316</td>\n",
       "      <td>9</td>\n",
       "      <td>Not a Pedestrian</td>\n",
       "      <td>11390</td>\n",
       "    </tr>\n",
       "    <tr>\n",
       "      <th>accident_cause</th>\n",
       "      <td>12316</td>\n",
       "      <td>20</td>\n",
       "      <td>No distancing</td>\n",
       "      <td>2263</td>\n",
       "    </tr>\n",
       "    <tr>\n",
       "      <th>accident_severity</th>\n",
       "      <td>12316</td>\n",
       "      <td>3</td>\n",
       "      <td>Slight Injury</td>\n",
       "      <td>10415</td>\n",
       "    </tr>\n",
       "  </tbody>\n",
       "</table>\n",
       "</div>"
      ],
      "text/plain": [
       "                         count unique  \\\n",
       "day_of_week              12316      7   \n",
       "driver_age               12316      5   \n",
       "driver_sex               12316      3   \n",
       "educational_level        11575      7   \n",
       "vehicle_driver_relation  11737      4   \n",
       "driving_experience       11487      7   \n",
       "vehicle_type             11366     17   \n",
       "vehicle_owner            11834      4   \n",
       "service_year              8388      6   \n",
       "vehicle_defect            7889      3   \n",
       "accident_area            12077     14   \n",
       "lanes                    11931      7   \n",
       "road_allignment          12174      9   \n",
       "junction_type            11429      8   \n",
       "surface_type             12144      5   \n",
       "road_surface_conditions  12316      4   \n",
       "light_condition          12316      4   \n",
       "weather_condition        12316      9   \n",
       "collision_type           12161     10   \n",
       "vehicle_movement         12008     13   \n",
       "casualty_class           12316      4   \n",
       "casualty_sex             12316      3   \n",
       "casualty_age             12316      6   \n",
       "casualty_severity        12316      4   \n",
       "casualty_work             9118      7   \n",
       "casualty_fitness          9681      5   \n",
       "pedestrian_movement      12316      9   \n",
       "accident_cause           12316     20   \n",
       "accident_severity        12316      3   \n",
       "\n",
       "                                                                      top  \\\n",
       "day_of_week                                                        Friday   \n",
       "driver_age                                                          18-30   \n",
       "driver_sex                                                           Male   \n",
       "educational_level                                      Junior high school   \n",
       "vehicle_driver_relation                                          Employee   \n",
       "driving_experience                                                 5-10yr   \n",
       "vehicle_type                                                   Automobile   \n",
       "vehicle_owner                                                       Owner   \n",
       "service_year                                                      Unknown   \n",
       "vehicle_defect                                                  No defect   \n",
       "accident_area                                                       Other   \n",
       "lanes                    Two-way (divided with broken lines road marking)   \n",
       "road_allignment                            Tangent road with flat terrain   \n",
       "junction_type                                                     Y Shape   \n",
       "surface_type                                                Asphalt roads   \n",
       "road_surface_conditions                                               Dry   \n",
       "light_condition                                                  Daylight   \n",
       "weather_condition                                                  Normal   \n",
       "collision_type                             Vehicle with vehicle collision   \n",
       "vehicle_movement                                           Going straight   \n",
       "casualty_class                                            Driver or rider   \n",
       "casualty_sex                                                         Male   \n",
       "casualty_age                                                           na   \n",
       "casualty_severity                                                       3   \n",
       "casualty_work                                                      Driver   \n",
       "casualty_fitness                                                   Normal   \n",
       "pedestrian_movement                                      Not a Pedestrian   \n",
       "accident_cause                                              No distancing   \n",
       "accident_severity                                           Slight Injury   \n",
       "\n",
       "                          freq  \n",
       "day_of_week               2041  \n",
       "driver_age                4271  \n",
       "driver_sex               11437  \n",
       "educational_level         7619  \n",
       "vehicle_driver_relation   9627  \n",
       "driving_experience        3363  \n",
       "vehicle_type              3205  \n",
       "vehicle_owner            10459  \n",
       "service_year              2883  \n",
       "vehicle_defect            7777  \n",
       "accident_area             3819  \n",
       "lanes                     4411  \n",
       "road_allignment          10459  \n",
       "junction_type             4543  \n",
       "surface_type             11296  \n",
       "road_surface_conditions   9340  \n",
       "light_condition           8798  \n",
       "weather_condition        10063  \n",
       "collision_type            8774  \n",
       "vehicle_movement          8158  \n",
       "casualty_class            4944  \n",
       "casualty_sex              5253  \n",
       "casualty_age              4443  \n",
       "casualty_severity         7076  \n",
       "casualty_work             5903  \n",
       "casualty_fitness          9608  \n",
       "pedestrian_movement      11390  \n",
       "accident_cause            2263  \n",
       "accident_severity        10415  "
      ]
     },
     "execution_count": 28,
     "metadata": {},
     "output_type": "execute_result"
    }
   ],
   "source": [
    "df.describe(include=['O']).T"
   ]
  },
  {
   "cell_type": "code",
   "execution_count": 13,
   "metadata": {},
   "outputs": [
    {
     "data": {
      "text/html": [
       "<div>\n",
       "<style scoped>\n",
       "    .dataframe tbody tr th:only-of-type {\n",
       "        vertical-align: middle;\n",
       "    }\n",
       "\n",
       "    .dataframe tbody tr th {\n",
       "        vertical-align: top;\n",
       "    }\n",
       "\n",
       "    .dataframe thead th {\n",
       "        text-align: right;\n",
       "    }\n",
       "</style>\n",
       "<table border=\"1\" class=\"dataframe\">\n",
       "  <thead>\n",
       "    <tr style=\"text-align: right;\">\n",
       "      <th></th>\n",
       "      <th>vehicles_involved</th>\n",
       "      <th>casualties</th>\n",
       "      <th>hour</th>\n",
       "      <th>minute</th>\n",
       "    </tr>\n",
       "  </thead>\n",
       "  <tbody>\n",
       "    <tr>\n",
       "      <th>count</th>\n",
       "      <td>12316.000000</td>\n",
       "      <td>12316.000000</td>\n",
       "      <td>12316.000000</td>\n",
       "      <td>12316.000000</td>\n",
       "    </tr>\n",
       "    <tr>\n",
       "      <th>mean</th>\n",
       "      <td>2.040679</td>\n",
       "      <td>1.548149</td>\n",
       "      <td>13.835823</td>\n",
       "      <td>27.696736</td>\n",
       "    </tr>\n",
       "    <tr>\n",
       "      <th>std</th>\n",
       "      <td>0.688790</td>\n",
       "      <td>1.007179</td>\n",
       "      <td>5.202923</td>\n",
       "      <td>17.482604</td>\n",
       "    </tr>\n",
       "    <tr>\n",
       "      <th>min</th>\n",
       "      <td>1.000000</td>\n",
       "      <td>1.000000</td>\n",
       "      <td>0.000000</td>\n",
       "      <td>0.000000</td>\n",
       "    </tr>\n",
       "    <tr>\n",
       "      <th>25%</th>\n",
       "      <td>2.000000</td>\n",
       "      <td>1.000000</td>\n",
       "      <td>10.000000</td>\n",
       "      <td>12.000000</td>\n",
       "    </tr>\n",
       "    <tr>\n",
       "      <th>50%</th>\n",
       "      <td>2.000000</td>\n",
       "      <td>1.000000</td>\n",
       "      <td>15.000000</td>\n",
       "      <td>30.000000</td>\n",
       "    </tr>\n",
       "    <tr>\n",
       "      <th>75%</th>\n",
       "      <td>2.000000</td>\n",
       "      <td>2.000000</td>\n",
       "      <td>18.000000</td>\n",
       "      <td>43.000000</td>\n",
       "    </tr>\n",
       "    <tr>\n",
       "      <th>max</th>\n",
       "      <td>7.000000</td>\n",
       "      <td>8.000000</td>\n",
       "      <td>23.000000</td>\n",
       "      <td>59.000000</td>\n",
       "    </tr>\n",
       "  </tbody>\n",
       "</table>\n",
       "</div>"
      ],
      "text/plain": [
       "       vehicles_involved    casualties          hour        minute\n",
       "count       12316.000000  12316.000000  12316.000000  12316.000000\n",
       "mean            2.040679      1.548149     13.835823     27.696736\n",
       "std             0.688790      1.007179      5.202923     17.482604\n",
       "min             1.000000      1.000000      0.000000      0.000000\n",
       "25%             2.000000      1.000000     10.000000     12.000000\n",
       "50%             2.000000      1.000000     15.000000     30.000000\n",
       "75%             2.000000      2.000000     18.000000     43.000000\n",
       "max             7.000000      8.000000     23.000000     59.000000"
      ]
     },
     "execution_count": 13,
     "metadata": {},
     "output_type": "execute_result"
    }
   ],
   "source": [
    "df.describe()"
   ]
  },
  {
   "cell_type": "code",
   "execution_count": 14,
   "metadata": {},
   "outputs": [
    {
     "data": {
      "text/plain": [
       "day_of_week                   0\n",
       "driver_age                    0\n",
       "driver_sex                    0\n",
       "educational_level           741\n",
       "vehicle_driver_relation     579\n",
       "driving_experience          829\n",
       "vehicle_type                950\n",
       "vehicle_owner               482\n",
       "service_year               3928\n",
       "vehicle_defect             4427\n",
       "accident_area               239\n",
       "lanes                       385\n",
       "road_allignment             142\n",
       "junction_type               887\n",
       "surface_type                172\n",
       "road_surface_conditions       0\n",
       "light_condition               0\n",
       "weather_condition             0\n",
       "collision_type              155\n",
       "vehicles_involved             0\n",
       "casualties                    0\n",
       "vehicle_movement            308\n",
       "casualty_class                0\n",
       "casualty_sex                  0\n",
       "casualty_age                  0\n",
       "casualty_severity             0\n",
       "casualty_work              3198\n",
       "casualty_fitness           2635\n",
       "pedestrian_movement           0\n",
       "accident_cause                0\n",
       "accident_severity             0\n",
       "hour                          0\n",
       "minute                        0\n",
       "dtype: int64"
      ]
     },
     "execution_count": 14,
     "metadata": {},
     "output_type": "execute_result"
    }
   ],
   "source": [
    "df.isna().sum()"
   ]
  },
  {
   "cell_type": "code",
   "execution_count": 29,
   "metadata": {},
   "outputs": [
    {
     "data": {
      "text/plain": [
       "day_of_week                 0.000000\n",
       "driver_age                  0.000000\n",
       "driver_sex                  0.000000\n",
       "educational_level           6.016564\n",
       "vehicle_driver_relation     4.701202\n",
       "driving_experience          6.731082\n",
       "vehicle_type                7.713543\n",
       "vehicle_owner               3.913608\n",
       "service_year               31.893472\n",
       "vehicle_defect             35.945112\n",
       "accident_area               1.940565\n",
       "lanes                       3.126015\n",
       "road_allignment             1.152972\n",
       "junction_type               7.202014\n",
       "surface_type                1.396557\n",
       "road_surface_conditions     0.000000\n",
       "light_condition             0.000000\n",
       "weather_condition           0.000000\n",
       "collision_type              1.258525\n",
       "vehicles_involved           0.000000\n",
       "casualties                  0.000000\n",
       "vehicle_movement            2.500812\n",
       "casualty_class              0.000000\n",
       "casualty_sex                0.000000\n",
       "casualty_age                0.000000\n",
       "casualty_severity           0.000000\n",
       "casualty_work              25.966223\n",
       "casualty_fitness           21.394933\n",
       "pedestrian_movement         0.000000\n",
       "accident_cause              0.000000\n",
       "accident_severity           0.000000\n",
       "hour                        0.000000\n",
       "minute                      0.000000\n",
       "dtype: float64"
      ]
     },
     "execution_count": 29,
     "metadata": {},
     "output_type": "execute_result"
    }
   ],
   "source": [
    "#Checking null values\n",
    "df.isnull().sum()\n",
    "# Check the NA values\n",
    "100 * df.isnull().sum() / df.shape[0]"
   ]
  },
  {
   "cell_type": "code",
   "execution_count": 16,
   "metadata": {},
   "outputs": [
    {
     "data": {
      "text/plain": [
       "0"
      ]
     },
     "execution_count": 16,
     "metadata": {},
     "output_type": "execute_result"
    }
   ],
   "source": [
    "#Checking duplicate values\n",
    "df.duplicated().sum()"
   ]
  },
  {
   "cell_type": "code",
   "execution_count": 17,
   "metadata": {},
   "outputs": [
    {
     "data": {
      "text/plain": [
       "day_of_week                 7\n",
       "driver_age                  5\n",
       "driver_sex                  3\n",
       "educational_level           7\n",
       "vehicle_driver_relation     4\n",
       "driving_experience          7\n",
       "vehicle_type               17\n",
       "vehicle_owner               4\n",
       "service_year                6\n",
       "vehicle_defect              3\n",
       "accident_area              14\n",
       "lanes                       7\n",
       "road_allignment             9\n",
       "junction_type               8\n",
       "surface_type                5\n",
       "road_surface_conditions     4\n",
       "light_condition             4\n",
       "weather_condition           9\n",
       "collision_type             10\n",
       "vehicles_involved           6\n",
       "casualties                  8\n",
       "vehicle_movement           13\n",
       "casualty_class              4\n",
       "casualty_sex                3\n",
       "casualty_age                6\n",
       "casualty_severity           4\n",
       "casualty_work               7\n",
       "casualty_fitness            5\n",
       "pedestrian_movement         9\n",
       "accident_cause             20\n",
       "accident_severity           3\n",
       "hour                       24\n",
       "minute                     60\n",
       "dtype: int64"
      ]
     },
     "execution_count": 17,
     "metadata": {},
     "output_type": "execute_result"
    }
   ],
   "source": [
    "#Checking unique value\n",
    "df.nunique()"
   ]
  },
  {
   "cell_type": "code",
   "execution_count": 18,
   "metadata": {},
   "outputs": [
    {
     "data": {
      "text/html": [
       "<div>\n",
       "<style scoped>\n",
       "    .dataframe tbody tr th:only-of-type {\n",
       "        vertical-align: middle;\n",
       "    }\n",
       "\n",
       "    .dataframe tbody tr th {\n",
       "        vertical-align: top;\n",
       "    }\n",
       "\n",
       "    .dataframe thead th {\n",
       "        text-align: right;\n",
       "    }\n",
       "</style>\n",
       "<table border=\"1\" class=\"dataframe\">\n",
       "  <thead>\n",
       "    <tr style=\"text-align: right;\">\n",
       "      <th></th>\n",
       "      <th>day_of_week</th>\n",
       "      <th>driver_age</th>\n",
       "      <th>driver_sex</th>\n",
       "      <th>educational_level</th>\n",
       "      <th>vehicle_driver_relation</th>\n",
       "      <th>driving_experience</th>\n",
       "      <th>vehicle_type</th>\n",
       "      <th>vehicle_owner</th>\n",
       "      <th>service_year</th>\n",
       "      <th>vehicle_defect</th>\n",
       "      <th>accident_area</th>\n",
       "      <th>lanes</th>\n",
       "      <th>road_allignment</th>\n",
       "      <th>junction_type</th>\n",
       "      <th>surface_type</th>\n",
       "      <th>road_surface_conditions</th>\n",
       "      <th>light_condition</th>\n",
       "      <th>weather_condition</th>\n",
       "      <th>collision_type</th>\n",
       "      <th>vehicles_involved</th>\n",
       "      <th>casualties</th>\n",
       "      <th>vehicle_movement</th>\n",
       "      <th>casualty_class</th>\n",
       "      <th>casualty_sex</th>\n",
       "      <th>casualty_age</th>\n",
       "      <th>casualty_severity</th>\n",
       "      <th>casualty_work</th>\n",
       "      <th>casualty_fitness</th>\n",
       "      <th>pedestrian_movement</th>\n",
       "      <th>accident_cause</th>\n",
       "      <th>accident_severity</th>\n",
       "      <th>hour</th>\n",
       "      <th>minute</th>\n",
       "    </tr>\n",
       "  </thead>\n",
       "  <tbody>\n",
       "    <tr>\n",
       "      <th>0</th>\n",
       "      <td>Monday</td>\n",
       "      <td>18-30</td>\n",
       "      <td>Male</td>\n",
       "      <td>Above high school</td>\n",
       "      <td>Employee</td>\n",
       "      <td>1-2yr</td>\n",
       "      <td>Automobile</td>\n",
       "      <td>Owner</td>\n",
       "      <td>Above 10yr</td>\n",
       "      <td>No defect</td>\n",
       "      <td>Residential areas</td>\n",
       "      <td>NaN</td>\n",
       "      <td>Tangent road with flat terrain</td>\n",
       "      <td>No junction</td>\n",
       "      <td>Asphalt roads</td>\n",
       "      <td>Dry</td>\n",
       "      <td>Daylight</td>\n",
       "      <td>Normal</td>\n",
       "      <td>Collision with roadside-parked vehicles</td>\n",
       "      <td>2</td>\n",
       "      <td>2</td>\n",
       "      <td>Going straight</td>\n",
       "      <td>na</td>\n",
       "      <td>na</td>\n",
       "      <td>na</td>\n",
       "      <td>na</td>\n",
       "      <td>NaN</td>\n",
       "      <td>NaN</td>\n",
       "      <td>Not a Pedestrian</td>\n",
       "      <td>Moving Backward</td>\n",
       "      <td>Slight Injury</td>\n",
       "      <td>17</td>\n",
       "      <td>2</td>\n",
       "    </tr>\n",
       "    <tr>\n",
       "      <th>1</th>\n",
       "      <td>Monday</td>\n",
       "      <td>31-50</td>\n",
       "      <td>Male</td>\n",
       "      <td>Junior high school</td>\n",
       "      <td>Employee</td>\n",
       "      <td>Above 10yr</td>\n",
       "      <td>Public (&gt; 45 seats)</td>\n",
       "      <td>Owner</td>\n",
       "      <td>5-10yrs</td>\n",
       "      <td>No defect</td>\n",
       "      <td>Office areas</td>\n",
       "      <td>Undivided Two way</td>\n",
       "      <td>Tangent road with flat terrain</td>\n",
       "      <td>No junction</td>\n",
       "      <td>Asphalt roads</td>\n",
       "      <td>Dry</td>\n",
       "      <td>Daylight</td>\n",
       "      <td>Normal</td>\n",
       "      <td>Vehicle with vehicle collision</td>\n",
       "      <td>2</td>\n",
       "      <td>2</td>\n",
       "      <td>Going straight</td>\n",
       "      <td>na</td>\n",
       "      <td>na</td>\n",
       "      <td>na</td>\n",
       "      <td>na</td>\n",
       "      <td>NaN</td>\n",
       "      <td>NaN</td>\n",
       "      <td>Not a Pedestrian</td>\n",
       "      <td>Overtaking</td>\n",
       "      <td>Slight Injury</td>\n",
       "      <td>17</td>\n",
       "      <td>2</td>\n",
       "    </tr>\n",
       "    <tr>\n",
       "      <th>2</th>\n",
       "      <td>Monday</td>\n",
       "      <td>18-30</td>\n",
       "      <td>Male</td>\n",
       "      <td>Junior high school</td>\n",
       "      <td>Employee</td>\n",
       "      <td>1-2yr</td>\n",
       "      <td>Lorry (41?100Q)</td>\n",
       "      <td>Owner</td>\n",
       "      <td>NaN</td>\n",
       "      <td>No defect</td>\n",
       "      <td>Recreational areas</td>\n",
       "      <td>other</td>\n",
       "      <td>NaN</td>\n",
       "      <td>No junction</td>\n",
       "      <td>Asphalt roads</td>\n",
       "      <td>Dry</td>\n",
       "      <td>Daylight</td>\n",
       "      <td>Normal</td>\n",
       "      <td>Collision with roadside objects</td>\n",
       "      <td>2</td>\n",
       "      <td>2</td>\n",
       "      <td>Going straight</td>\n",
       "      <td>Driver or rider</td>\n",
       "      <td>Male</td>\n",
       "      <td>31-50</td>\n",
       "      <td>3</td>\n",
       "      <td>Driver</td>\n",
       "      <td>NaN</td>\n",
       "      <td>Not a Pedestrian</td>\n",
       "      <td>Changing lane to the left</td>\n",
       "      <td>Serious Injury</td>\n",
       "      <td>17</td>\n",
       "      <td>2</td>\n",
       "    </tr>\n",
       "    <tr>\n",
       "      <th>3</th>\n",
       "      <td>Sunday</td>\n",
       "      <td>18-30</td>\n",
       "      <td>Male</td>\n",
       "      <td>Junior high school</td>\n",
       "      <td>Employee</td>\n",
       "      <td>5-10yr</td>\n",
       "      <td>Public (&gt; 45 seats)</td>\n",
       "      <td>Governmental</td>\n",
       "      <td>NaN</td>\n",
       "      <td>No defect</td>\n",
       "      <td>Office areas</td>\n",
       "      <td>other</td>\n",
       "      <td>Tangent road with mild grade and flat terrain</td>\n",
       "      <td>Y Shape</td>\n",
       "      <td>Earth roads</td>\n",
       "      <td>Dry</td>\n",
       "      <td>Darkness - lights lit</td>\n",
       "      <td>Normal</td>\n",
       "      <td>Vehicle with vehicle collision</td>\n",
       "      <td>2</td>\n",
       "      <td>2</td>\n",
       "      <td>Going straight</td>\n",
       "      <td>Pedestrian</td>\n",
       "      <td>Female</td>\n",
       "      <td>18-30</td>\n",
       "      <td>3</td>\n",
       "      <td>Driver</td>\n",
       "      <td>Normal</td>\n",
       "      <td>Not a Pedestrian</td>\n",
       "      <td>Changing lane to the right</td>\n",
       "      <td>Slight Injury</td>\n",
       "      <td>1</td>\n",
       "      <td>6</td>\n",
       "    </tr>\n",
       "    <tr>\n",
       "      <th>4</th>\n",
       "      <td>Sunday</td>\n",
       "      <td>18-30</td>\n",
       "      <td>Male</td>\n",
       "      <td>Junior high school</td>\n",
       "      <td>Employee</td>\n",
       "      <td>2-5yr</td>\n",
       "      <td>NaN</td>\n",
       "      <td>Owner</td>\n",
       "      <td>5-10yrs</td>\n",
       "      <td>No defect</td>\n",
       "      <td>Industrial areas</td>\n",
       "      <td>other</td>\n",
       "      <td>Tangent road with flat terrain</td>\n",
       "      <td>Y Shape</td>\n",
       "      <td>Asphalt roads</td>\n",
       "      <td>Dry</td>\n",
       "      <td>Darkness - lights lit</td>\n",
       "      <td>Normal</td>\n",
       "      <td>Vehicle with vehicle collision</td>\n",
       "      <td>2</td>\n",
       "      <td>2</td>\n",
       "      <td>Going straight</td>\n",
       "      <td>na</td>\n",
       "      <td>na</td>\n",
       "      <td>na</td>\n",
       "      <td>na</td>\n",
       "      <td>NaN</td>\n",
       "      <td>NaN</td>\n",
       "      <td>Not a Pedestrian</td>\n",
       "      <td>Overtaking</td>\n",
       "      <td>Slight Injury</td>\n",
       "      <td>1</td>\n",
       "      <td>6</td>\n",
       "    </tr>\n",
       "  </tbody>\n",
       "</table>\n",
       "</div>"
      ],
      "text/plain": [
       "  day_of_week driver_age driver_sex   educational_level  \\\n",
       "0      Monday      18-30       Male   Above high school   \n",
       "1      Monday      31-50       Male  Junior high school   \n",
       "2      Monday      18-30       Male  Junior high school   \n",
       "3      Sunday      18-30       Male  Junior high school   \n",
       "4      Sunday      18-30       Male  Junior high school   \n",
       "\n",
       "  vehicle_driver_relation driving_experience         vehicle_type  \\\n",
       "0                Employee              1-2yr           Automobile   \n",
       "1                Employee         Above 10yr  Public (> 45 seats)   \n",
       "2                Employee              1-2yr      Lorry (41?100Q)   \n",
       "3                Employee             5-10yr  Public (> 45 seats)   \n",
       "4                Employee              2-5yr                  NaN   \n",
       "\n",
       "  vehicle_owner service_year vehicle_defect         accident_area  \\\n",
       "0         Owner   Above 10yr      No defect     Residential areas   \n",
       "1         Owner      5-10yrs      No defect          Office areas   \n",
       "2         Owner          NaN      No defect    Recreational areas   \n",
       "3  Governmental          NaN      No defect          Office areas   \n",
       "4         Owner      5-10yrs      No defect      Industrial areas   \n",
       "\n",
       "               lanes                                road_allignment  \\\n",
       "0                NaN                 Tangent road with flat terrain   \n",
       "1  Undivided Two way                 Tangent road with flat terrain   \n",
       "2              other                                            NaN   \n",
       "3              other  Tangent road with mild grade and flat terrain   \n",
       "4              other                 Tangent road with flat terrain   \n",
       "\n",
       "  junction_type   surface_type road_surface_conditions        light_condition  \\\n",
       "0   No junction  Asphalt roads                     Dry               Daylight   \n",
       "1   No junction  Asphalt roads                     Dry               Daylight   \n",
       "2   No junction  Asphalt roads                     Dry               Daylight   \n",
       "3       Y Shape    Earth roads                     Dry  Darkness - lights lit   \n",
       "4       Y Shape  Asphalt roads                     Dry  Darkness - lights lit   \n",
       "\n",
       "  weather_condition                           collision_type  \\\n",
       "0            Normal  Collision with roadside-parked vehicles   \n",
       "1            Normal           Vehicle with vehicle collision   \n",
       "2            Normal          Collision with roadside objects   \n",
       "3            Normal           Vehicle with vehicle collision   \n",
       "4            Normal           Vehicle with vehicle collision   \n",
       "\n",
       "   vehicles_involved  casualties vehicle_movement   casualty_class  \\\n",
       "0                  2           2   Going straight               na   \n",
       "1                  2           2   Going straight               na   \n",
       "2                  2           2   Going straight  Driver or rider   \n",
       "3                  2           2   Going straight       Pedestrian   \n",
       "4                  2           2   Going straight               na   \n",
       "\n",
       "  casualty_sex casualty_age casualty_severity casualty_work casualty_fitness  \\\n",
       "0           na           na                na           NaN              NaN   \n",
       "1           na           na                na           NaN              NaN   \n",
       "2         Male        31-50                 3        Driver              NaN   \n",
       "3       Female        18-30                 3        Driver           Normal   \n",
       "4           na           na                na           NaN              NaN   \n",
       "\n",
       "  pedestrian_movement              accident_cause accident_severity  hour  \\\n",
       "0    Not a Pedestrian             Moving Backward     Slight Injury    17   \n",
       "1    Not a Pedestrian                  Overtaking     Slight Injury    17   \n",
       "2    Not a Pedestrian   Changing lane to the left    Serious Injury    17   \n",
       "3    Not a Pedestrian  Changing lane to the right     Slight Injury     1   \n",
       "4    Not a Pedestrian                  Overtaking     Slight Injury     1   \n",
       "\n",
       "   minute  \n",
       "0       2  \n",
       "1       2  \n",
       "2       2  \n",
       "3       6  \n",
       "4       6  "
      ]
     },
     "execution_count": 18,
     "metadata": {},
     "output_type": "execute_result"
    }
   ],
   "source": [
    "df.head()"
   ]
  },
  {
   "cell_type": "code",
   "execution_count": 30,
   "metadata": {},
   "outputs": [
    {
     "data": {
      "image/png": "[encoded data removed]",
      "text/plain": [
       "<Figure size 1008x504 with 2 Axes>"
      ]
     },
     "metadata": {},
     "output_type": "display_data"
    }
   ],
   "source": [
    "#Checking the target\n",
    "plt.figure(figsize=(14,7))\n",
    "#barplot\n",
    "ax1 = plt.subplot(1,2,1)\n",
    "cp = sns.countplot(x=df[\"accident_severity\"])\n",
    "ax1.set_xlabel(\"\")\n",
    "ax1.set_ylabel(\"\")\n",
    "plt.xticks(fontsize=14)\n",
    "plt.yticks(fontsize=14)\n",
    "sns.despine(top=True, right = True)\n",
    "\n",
    "#Pieplot\n",
    "ax2 = plt.subplot(1,2,2)\n",
    "plt.pie(df['accident_severity'].value_counts(),labels = list(df['accident_severity'].unique()),autopct='%1.2f%%',\n",
    "pctdistance=0.8,shadow=True,radius = 1.3,textprops={'fontsize':14})\n",
    "ax2.set_xlabel(\" \")\n",
    "plt.xlabel(\"Composition of 'accident severity'\",fontsize=15,labelpad=20)\n",
    "plt.subplots_adjust(wspace=0.4)\n",
    "plt.show()"
   ]
  },
  {
   "cell_type": "code",
   "execution_count": 31,
   "metadata": {},
   "outputs": [
    {
     "name": "stdout",
     "output_type": "stream",
     "text": [
      "Error in callback <function flush_figures at 0x000001E75A397D30> (for post_execute):\n"
     ]
    },
    {
     "ename": "KeyboardInterrupt",
     "evalue": "",
     "output_type": "error",
     "traceback": [
      "\u001b[1;31m---------------------------------------------------------------------------\u001b[0m",
      "\u001b[1;31mAttributeError\u001b[0m                            Traceback (most recent call last)",
      "File \u001b[1;32mc:\\Users\\Karthick\\anaconda3\\lib\\site-packages\\PIL\\ImageFile.py:495\u001b[0m, in \u001b[0;36m_save\u001b[1;34m(im, fp, tile, bufsize)\u001b[0m\n\u001b[0;32m    494\u001b[0m \u001b[39mtry\u001b[39;00m:\n\u001b[1;32m--> 495\u001b[0m     fh \u001b[39m=\u001b[39m fp\u001b[39m.\u001b[39;49mfileno()\n\u001b[0;32m    496\u001b[0m     fp\u001b[39m.\u001b[39mflush()\n",
      "\u001b[1;31mAttributeError\u001b[0m: '_idat' object has no attribute 'fileno'",
      "\nDuring handling of the above exception, another exception occurred:\n",
      "\u001b[1;31mKeyboardInterrupt\u001b[0m                         Traceback (most recent call last)",
      "File \u001b[1;32mc:\\Users\\Karthick\\anaconda3\\lib\\site-packages\\matplotlib_inline\\backend_inline.py:121\u001b[0m, in \u001b[0;36mflush_figures\u001b[1;34m()\u001b[0m\n\u001b[0;32m    118\u001b[0m \u001b[39mif\u001b[39;00m InlineBackend\u001b[39m.\u001b[39minstance()\u001b[39m.\u001b[39mclose_figures:\n\u001b[0;32m    119\u001b[0m     \u001b[39m# ignore the tracking, just draw and close all figures\u001b[39;00m\n\u001b[0;32m    120\u001b[0m     \u001b[39mtry\u001b[39;00m:\n\u001b[1;32m--> 121\u001b[0m         \u001b[39mreturn\u001b[39;00m show(\u001b[39mTrue\u001b[39;49;00m)\n\u001b[0;32m    122\u001b[0m     \u001b[39mexcept\u001b[39;00m \u001b[39mException\u001b[39;00m \u001b[39mas\u001b[39;00m e:\n\u001b[0;32m    123\u001b[0m         \u001b[39m# safely show traceback if in IPython, else raise\u001b[39;00m\n\u001b[0;32m    124\u001b[0m         ip \u001b[39m=\u001b[39m get_ipython()\n",
      "File \u001b[1;32mc:\\Users\\Karthick\\anaconda3\\lib\\site-packages\\matplotlib_inline\\backend_inline.py:41\u001b[0m, in \u001b[0;36mshow\u001b[1;34m(close, block)\u001b[0m\n\u001b[0;32m     39\u001b[0m \u001b[39mtry\u001b[39;00m:\n\u001b[0;32m     40\u001b[0m     \u001b[39mfor\u001b[39;00m figure_manager \u001b[39min\u001b[39;00m Gcf\u001b[39m.\u001b[39mget_all_fig_managers():\n\u001b[1;32m---> 41\u001b[0m         display(\n\u001b[0;32m     42\u001b[0m             figure_manager\u001b[39m.\u001b[39;49mcanvas\u001b[39m.\u001b[39;49mfigure,\n\u001b[0;32m     43\u001b[0m             metadata\u001b[39m=\u001b[39;49m_fetch_figure_metadata(figure_manager\u001b[39m.\u001b[39;49mcanvas\u001b[39m.\u001b[39;49mfigure)\n\u001b[0;32m     44\u001b[0m         )\n\u001b[0;32m     45\u001b[0m \u001b[39mfinally\u001b[39;00m:\n\u001b[0;32m     46\u001b[0m     show\u001b[39m.\u001b[39m_to_draw \u001b[39m=\u001b[39m []\n",
      "File \u001b[1;32mc:\\Users\\Karthick\\anaconda3\\lib\\site-packages\\IPython\\core\\display_functions.py:298\u001b[0m, in \u001b[0;36mdisplay\u001b[1;34m(include, exclude, metadata, transient, display_id, raw, clear, *objs, **kwargs)\u001b[0m\n\u001b[0;32m    296\u001b[0m     publish_display_data(data\u001b[39m=\u001b[39mobj, metadata\u001b[39m=\u001b[39mmetadata, \u001b[39m*\u001b[39m\u001b[39m*\u001b[39mkwargs)\n\u001b[0;32m    297\u001b[0m \u001b[39melse\u001b[39;00m:\n\u001b[1;32m--> 298\u001b[0m     format_dict, md_dict \u001b[39m=\u001b[39m \u001b[39mformat\u001b[39;49m(obj, include\u001b[39m=\u001b[39;49minclude, exclude\u001b[39m=\u001b[39;49mexclude)\n\u001b[0;32m    299\u001b[0m     \u001b[39mif\u001b[39;00m \u001b[39mnot\u001b[39;00m format_dict:\n\u001b[0;32m    300\u001b[0m         \u001b[39m# nothing to display (e.g. _ipython_display_ took over)\u001b[39;00m\n\u001b[0;32m    301\u001b[0m         \u001b[39mcontinue\u001b[39;00m\n",
      "File \u001b[1;32mc:\\Users\\Karthick\\anaconda3\\lib\\site-packages\\IPython\\core\\formatters.py:178\u001b[0m, in \u001b[0;36mDisplayFormatter.format\u001b[1;34m(self, obj, include, exclude)\u001b[0m\n\u001b[0;32m    176\u001b[0m md \u001b[39m=\u001b[39m \u001b[39mNone\u001b[39;00m\n\u001b[0;32m    177\u001b[0m \u001b[39mtry\u001b[39;00m:\n\u001b[1;32m--> 178\u001b[0m     data \u001b[39m=\u001b[39m formatter(obj)\n\u001b[0;32m    179\u001b[0m \u001b[39mexcept\u001b[39;00m:\n\u001b[0;32m    180\u001b[0m     \u001b[39m# FIXME: log the exception\u001b[39;00m\n\u001b[0;32m    181\u001b[0m     \u001b[39mraise\u001b[39;00m\n",
      "File \u001b[1;32mc:\\Users\\Karthick\\anaconda3\\lib\\site-packages\\decorator.py:232\u001b[0m, in \u001b[0;36mdecorate.<locals>.fun\u001b[1;34m(*args, **kw)\u001b[0m\n\u001b[0;32m    230\u001b[0m \u001b[39mif\u001b[39;00m \u001b[39mnot\u001b[39;00m kwsyntax:\n\u001b[0;32m    231\u001b[0m     args, kw \u001b[39m=\u001b[39m fix(args, kw, sig)\n\u001b[1;32m--> 232\u001b[0m \u001b[39mreturn\u001b[39;00m caller(func, \u001b[39m*\u001b[39m(extras \u001b[39m+\u001b[39m args), \u001b[39m*\u001b[39m\u001b[39m*\u001b[39mkw)\n",
      "File \u001b[1;32mc:\\Users\\Karthick\\anaconda3\\lib\\site-packages\\IPython\\core\\formatters.py:222\u001b[0m, in \u001b[0;36mcatch_format_error\u001b[1;34m(method, self, *args, **kwargs)\u001b[0m\n\u001b[0;32m    220\u001b[0m \u001b[39m\"\"\"show traceback on failed format call\"\"\"\u001b[39;00m\n\u001b[0;32m    221\u001b[0m \u001b[39mtry\u001b[39;00m:\n\u001b[1;32m--> 222\u001b[0m     r \u001b[39m=\u001b[39m method(\u001b[39mself\u001b[39m, \u001b[39m*\u001b[39margs, \u001b[39m*\u001b[39m\u001b[39m*\u001b[39mkwargs)\n\u001b[0;32m    223\u001b[0m \u001b[39mexcept\u001b[39;00m \u001b[39mNotImplementedError\u001b[39;00m:\n\u001b[0;32m    224\u001b[0m     \u001b[39m# don't warn on NotImplementedErrors\u001b[39;00m\n\u001b[0;32m    225\u001b[0m     \u001b[39mreturn\u001b[39;00m \u001b[39mself\u001b[39m\u001b[39m.\u001b[39m_check_return(\u001b[39mNone\u001b[39;00m, args[\u001b[39m0\u001b[39m])\n",
      "File \u001b[1;32mc:\\Users\\Karthick\\anaconda3\\lib\\site-packages\\IPython\\core\\formatters.py:339\u001b[0m, in \u001b[0;36mBaseFormatter.__call__\u001b[1;34m(self, obj)\u001b[0m\n\u001b[0;32m    337\u001b[0m     \u001b[39mpass\u001b[39;00m\n\u001b[0;32m    338\u001b[0m \u001b[39melse\u001b[39;00m:\n\u001b[1;32m--> 339\u001b[0m     \u001b[39mreturn\u001b[39;00m printer(obj)\n\u001b[0;32m    340\u001b[0m \u001b[39m# Finally look for special method names\u001b[39;00m\n\u001b[0;32m    341\u001b[0m method \u001b[39m=\u001b[39m get_real_method(obj, \u001b[39mself\u001b[39m\u001b[39m.\u001b[39mprint_method)\n",
      "File \u001b[1;32mc:\\Users\\Karthick\\anaconda3\\lib\\site-packages\\IPython\\core\\pylabtools.py:151\u001b[0m, in \u001b[0;36mprint_figure\u001b[1;34m(fig, fmt, bbox_inches, base64, **kwargs)\u001b[0m\n\u001b[0;32m    148\u001b[0m     \u001b[39mfrom\u001b[39;00m \u001b[39mmatplotlib\u001b[39;00m\u001b[39m.\u001b[39;00m\u001b[39mbackend_bases\u001b[39;00m \u001b[39mimport\u001b[39;00m FigureCanvasBase\n\u001b[0;32m    149\u001b[0m     FigureCanvasBase(fig)\n\u001b[1;32m--> 151\u001b[0m fig\u001b[39m.\u001b[39mcanvas\u001b[39m.\u001b[39mprint_figure(bytes_io, \u001b[39m*\u001b[39m\u001b[39m*\u001b[39mkw)\n\u001b[0;32m    152\u001b[0m data \u001b[39m=\u001b[39m bytes_io\u001b[39m.\u001b[39mgetvalue()\n\u001b[0;32m    153\u001b[0m \u001b[39mif\u001b[39;00m fmt \u001b[39m==\u001b[39m \u001b[39m'\u001b[39m\u001b[39msvg\u001b[39m\u001b[39m'\u001b[39m:\n",
      "File \u001b[1;32mc:\\Users\\Karthick\\anaconda3\\lib\\site-packages\\matplotlib\\backend_bases.py:2319\u001b[0m, in \u001b[0;36mFigureCanvasBase.print_figure\u001b[1;34m(self, filename, dpi, facecolor, edgecolor, orientation, format, bbox_inches, pad_inches, bbox_extra_artists, backend, **kwargs)\u001b[0m\n\u001b[0;32m   2315\u001b[0m \u001b[39mtry\u001b[39;00m:\n\u001b[0;32m   2316\u001b[0m     \u001b[39m# _get_renderer may change the figure dpi (as vector formats\u001b[39;00m\n\u001b[0;32m   2317\u001b[0m     \u001b[39m# force the figure dpi to 72), so we need to set it again here.\u001b[39;00m\n\u001b[0;32m   2318\u001b[0m     \u001b[39mwith\u001b[39;00m cbook\u001b[39m.\u001b[39m_setattr_cm(\u001b[39mself\u001b[39m\u001b[39m.\u001b[39mfigure, dpi\u001b[39m=\u001b[39mdpi):\n\u001b[1;32m-> 2319\u001b[0m         result \u001b[39m=\u001b[39m print_method(\n\u001b[0;32m   2320\u001b[0m             filename,\n\u001b[0;32m   2321\u001b[0m             facecolor\u001b[39m=\u001b[39mfacecolor,\n\u001b[0;32m   2322\u001b[0m             edgecolor\u001b[39m=\u001b[39medgecolor,\n\u001b[0;32m   2323\u001b[0m             orientation\u001b[39m=\u001b[39morientation,\n\u001b[0;32m   2324\u001b[0m             bbox_inches_restore\u001b[39m=\u001b[39m_bbox_inches_restore,\n\u001b[0;32m   2325\u001b[0m             \u001b[39m*\u001b[39m\u001b[39m*\u001b[39mkwargs)\n\u001b[0;32m   2326\u001b[0m \u001b[39mfinally\u001b[39;00m:\n\u001b[0;32m   2327\u001b[0m     \u001b[39mif\u001b[39;00m bbox_inches \u001b[39mand\u001b[39;00m restore_bbox:\n",
      "File \u001b[1;32mc:\\Users\\Karthick\\anaconda3\\lib\\site-packages\\matplotlib\\backend_bases.py:1648\u001b[0m, in \u001b[0;36m_check_savefig_extra_args.<locals>.wrapper\u001b[1;34m(*args, **kwargs)\u001b[0m\n\u001b[0;32m   1640\u001b[0m     _api\u001b[39m.\u001b[39mwarn_deprecated(\n\u001b[0;32m   1641\u001b[0m         \u001b[39m'\u001b[39m\u001b[39m3.3\u001b[39m\u001b[39m'\u001b[39m, name\u001b[39m=\u001b[39mname, removal\u001b[39m=\u001b[39m\u001b[39m'\u001b[39m\u001b[39m3.6\u001b[39m\u001b[39m'\u001b[39m,\n\u001b[0;32m   1642\u001b[0m         message\u001b[39m=\u001b[39m\u001b[39m'\u001b[39m\u001b[39m%(name)s\u001b[39;00m\u001b[39m() got unexpected keyword argument \u001b[39m\u001b[39m\"\u001b[39m\u001b[39m'\u001b[39m\n\u001b[0;32m   1643\u001b[0m                 \u001b[39m+\u001b[39m arg \u001b[39m+\u001b[39m \u001b[39m'\u001b[39m\u001b[39m\"\u001b[39m\u001b[39m which is no longer supported as of \u001b[39m\u001b[39m'\u001b[39m\n\u001b[0;32m   1644\u001b[0m                 \u001b[39m'\u001b[39m\u001b[39m%(since)s\u001b[39;00m\u001b[39m and will become an error \u001b[39m\u001b[39m'\u001b[39m\n\u001b[0;32m   1645\u001b[0m                 \u001b[39m'\u001b[39m\u001b[39m%(removal)s\u001b[39;00m\u001b[39m'\u001b[39m)\n\u001b[0;32m   1646\u001b[0m     kwargs\u001b[39m.\u001b[39mpop(arg)\n\u001b[1;32m-> 1648\u001b[0m \u001b[39mreturn\u001b[39;00m func(\u001b[39m*\u001b[39margs, \u001b[39m*\u001b[39m\u001b[39m*\u001b[39mkwargs)\n",
      "File \u001b[1;32mc:\\Users\\Karthick\\anaconda3\\lib\\site-packages\\matplotlib\\_api\\deprecation.py:412\u001b[0m, in \u001b[0;36mdelete_parameter.<locals>.wrapper\u001b[1;34m(*inner_args, **inner_kwargs)\u001b[0m\n\u001b[0;32m    402\u001b[0m     deprecation_addendum \u001b[39m=\u001b[39m (\n\u001b[0;32m    403\u001b[0m         \u001b[39mf\u001b[39m\u001b[39m\"\u001b[39m\u001b[39mIf any parameter follows \u001b[39m\u001b[39m{\u001b[39;00mname\u001b[39m!r}\u001b[39;00m\u001b[39m, they should be passed as \u001b[39m\u001b[39m\"\u001b[39m\n\u001b[0;32m    404\u001b[0m         \u001b[39mf\u001b[39m\u001b[39m\"\u001b[39m\u001b[39mkeyword, not positionally.\u001b[39m\u001b[39m\"\u001b[39m)\n\u001b[0;32m    405\u001b[0m     warn_deprecated(\n\u001b[0;32m    406\u001b[0m         since,\n\u001b[0;32m    407\u001b[0m         name\u001b[39m=\u001b[39m\u001b[39mrepr\u001b[39m(name),\n\u001b[1;32m   (...)\u001b[0m\n\u001b[0;32m    410\u001b[0m                  \u001b[39melse\u001b[39;00m deprecation_addendum,\n\u001b[0;32m    411\u001b[0m         \u001b[39m*\u001b[39m\u001b[39m*\u001b[39mkwargs)\n\u001b[1;32m--> 412\u001b[0m \u001b[39mreturn\u001b[39;00m func(\u001b[39m*\u001b[39minner_args, \u001b[39m*\u001b[39m\u001b[39m*\u001b[39minner_kwargs)\n",
      "File \u001b[1;32mc:\\Users\\Karthick\\anaconda3\\lib\\site-packages\\matplotlib\\backends\\backend_agg.py:541\u001b[0m, in \u001b[0;36mFigureCanvasAgg.print_png\u001b[1;34m(self, filename_or_obj, metadata, pil_kwargs, *args)\u001b[0m\n\u001b[0;32m    494\u001b[0m \u001b[39m\"\"\"\u001b[39;00m\n\u001b[0;32m    495\u001b[0m \u001b[39mWrite the figure to a PNG file.\u001b[39;00m\n\u001b[0;32m    496\u001b[0m \n\u001b[1;32m   (...)\u001b[0m\n\u001b[0;32m    538\u001b[0m \u001b[39m    *metadata*, including the default 'Software' key.\u001b[39;00m\n\u001b[0;32m    539\u001b[0m \u001b[39m\"\"\"\u001b[39;00m\n\u001b[0;32m    540\u001b[0m FigureCanvasAgg\u001b[39m.\u001b[39mdraw(\u001b[39mself\u001b[39m)\n\u001b[1;32m--> 541\u001b[0m mpl\u001b[39m.\u001b[39;49mimage\u001b[39m.\u001b[39;49mimsave(\n\u001b[0;32m    542\u001b[0m     filename_or_obj, \u001b[39mself\u001b[39;49m\u001b[39m.\u001b[39;49mbuffer_rgba(), \u001b[39mformat\u001b[39;49m\u001b[39m=\u001b[39;49m\u001b[39m\"\u001b[39;49m\u001b[39mpng\u001b[39;49m\u001b[39m\"\u001b[39;49m, origin\u001b[39m=\u001b[39;49m\u001b[39m\"\u001b[39;49m\u001b[39mupper\u001b[39;49m\u001b[39m\"\u001b[39;49m,\n\u001b[0;32m    543\u001b[0m     dpi\u001b[39m=\u001b[39;49m\u001b[39mself\u001b[39;49m\u001b[39m.\u001b[39;49mfigure\u001b[39m.\u001b[39;49mdpi, metadata\u001b[39m=\u001b[39;49mmetadata, pil_kwargs\u001b[39m=\u001b[39;49mpil_kwargs)\n",
      "File \u001b[1;32mc:\\Users\\Karthick\\anaconda3\\lib\\site-packages\\matplotlib\\image.py:1675\u001b[0m, in \u001b[0;36mimsave\u001b[1;34m(fname, arr, vmin, vmax, cmap, format, origin, dpi, metadata, pil_kwargs)\u001b[0m\n\u001b[0;32m   1673\u001b[0m pil_kwargs\u001b[39m.\u001b[39msetdefault(\u001b[39m\"\u001b[39m\u001b[39mformat\u001b[39m\u001b[39m\"\u001b[39m, \u001b[39mformat\u001b[39m)\n\u001b[0;32m   1674\u001b[0m pil_kwargs\u001b[39m.\u001b[39msetdefault(\u001b[39m\"\u001b[39m\u001b[39mdpi\u001b[39m\u001b[39m\"\u001b[39m, (dpi, dpi))\n\u001b[1;32m-> 1675\u001b[0m image\u001b[39m.\u001b[39msave(fname, \u001b[39m*\u001b[39m\u001b[39m*\u001b[39mpil_kwargs)\n",
      "File \u001b[1;32mc:\\Users\\Karthick\\anaconda3\\lib\\site-packages\\PIL\\Image.py:2212\u001b[0m, in \u001b[0;36mImage.save\u001b[1;34m(self, fp, format, **params)\u001b[0m\n\u001b[0;32m   2209\u001b[0m         fp \u001b[39m=\u001b[39m builtins\u001b[39m.\u001b[39mopen(filename, \u001b[39m\"\u001b[39m\u001b[39mw+b\u001b[39m\u001b[39m\"\u001b[39m)\n\u001b[0;32m   2211\u001b[0m \u001b[39mtry\u001b[39;00m:\n\u001b[1;32m-> 2212\u001b[0m     save_handler(\u001b[39mself\u001b[39;49m, fp, filename)\n\u001b[0;32m   2213\u001b[0m \u001b[39mfinally\u001b[39;00m:\n\u001b[0;32m   2214\u001b[0m     \u001b[39m# do what we can to clean up\u001b[39;00m\n\u001b[0;32m   2215\u001b[0m     \u001b[39mif\u001b[39;00m open_fp:\n",
      "File \u001b[1;32mc:\\Users\\Karthick\\anaconda3\\lib\\site-packages\\PIL\\PngImagePlugin.py:1348\u001b[0m, in \u001b[0;36m_save\u001b[1;34m(im, fp, filename, chunk, save_all)\u001b[0m\n\u001b[0;32m   1346\u001b[0m     _write_multiple_frames(im, fp, chunk, rawmode)\n\u001b[0;32m   1347\u001b[0m \u001b[39melse\u001b[39;00m:\n\u001b[1;32m-> 1348\u001b[0m     ImageFile\u001b[39m.\u001b[39;49m_save(im, _idat(fp, chunk), [(\u001b[39m\"\u001b[39;49m\u001b[39mzip\u001b[39;49m\u001b[39m\"\u001b[39;49m, (\u001b[39m0\u001b[39;49m, \u001b[39m0\u001b[39;49m) \u001b[39m+\u001b[39;49m im\u001b[39m.\u001b[39;49msize, \u001b[39m0\u001b[39;49m, rawmode)])\n\u001b[0;32m   1350\u001b[0m \u001b[39mif\u001b[39;00m info:\n\u001b[0;32m   1351\u001b[0m     \u001b[39mfor\u001b[39;00m info_chunk \u001b[39min\u001b[39;00m info\u001b[39m.\u001b[39mchunks:\n",
      "File \u001b[1;32mc:\\Users\\Karthick\\anaconda3\\lib\\site-packages\\PIL\\ImageFile.py:509\u001b[0m, in \u001b[0;36m_save\u001b[1;34m(im, fp, tile, bufsize)\u001b[0m\n\u001b[0;32m    507\u001b[0m \u001b[39melse\u001b[39;00m:\n\u001b[0;32m    508\u001b[0m     \u001b[39mwhile\u001b[39;00m \u001b[39mTrue\u001b[39;00m:\n\u001b[1;32m--> 509\u001b[0m         l, s, d \u001b[39m=\u001b[39m e\u001b[39m.\u001b[39;49mencode(bufsize)\n\u001b[0;32m    510\u001b[0m         fp\u001b[39m.\u001b[39mwrite(d)\n\u001b[0;32m    511\u001b[0m         \u001b[39mif\u001b[39;00m s:\n",
      "\u001b[1;31mKeyboardInterrupt\u001b[0m: "
     ]
    }
   ],
   "source": [
    "plt.figure(figsize=(15,70))\n",
    "plotnumber = 1\n",
    "\n",
    "for col in df.drop(['hour', 'minute', 'lanes', 'road_allignment', 'pedestrian_movement'], axis=1):\n",
    "    if plotnumber <= df.shape[1]:\n",
    "        ax1 = plt.subplot(16,2,plotnumber)\n",
    "        sns.countplot(data=df, y=col, palette='Dark2')\n",
    "        plt.xticks(fontsize=12)\n",
    "        plt.yticks(fontsize=12)\n",
    "        plt.title(col.title(), fontsize=14)\n",
    "        plt.xlabel('')\n",
    "        plt.ylabel('')\n",
    "    plotnumber +=1\n",
    "plt.tight_layout()\n",
    "plt.figure(figsize=(15,70))\n",
    "plotnumber = 1\n",
    "\n",
    "\n"
   ]
  },
  {
   "cell_type": "code",
   "execution_count": 21,
   "metadata": {},
   "outputs": [
    {
     "data": {
      "image/png": "[encoded data removed]",
      "text/plain": [
       "<Figure size 720x216 with 1 Axes>"
      ]
     },
     "metadata": {},
     "output_type": "display_data"
    }
   ],
   "source": [
    "plt.figure(figsize=(10,3))\n",
    "sns.countplot(data=df, y='lanes', palette = 'Dark2')\n",
    "plt.xticks(fontsize=12)\n",
    "plt.yticks(fontsize=12)\n",
    "plt.title('Lanes', fontsize=14)\n",
    "plt.xlabel('')\n",
    "plt.ylabel('')\n",
    "plt.tight_layout()"
   ]
  },
  {
   "cell_type": "code",
   "execution_count": 22,
   "metadata": {},
   "outputs": [
    {
     "data": {
      "image/png": "[encoded data removed]",
      "text/plain": [
       "<Figure size 720x216 with 1 Axes>"
      ]
     },
     "metadata": {},
     "output_type": "display_data"
    }
   ],
   "source": [
    "plt.figure(figsize=(10,3))\n",
    "sns.countplot(data=df, y='road_allignment', palette = 'Dark2')\n",
    "plt.xticks(fontsize=12)\n",
    "plt.yticks(fontsize=12)\n",
    "plt.title('Road Allignment', fontsize=14)\n",
    "plt.xlabel('')\n",
    "plt.ylabel('')\n",
    "plt.tight_layout()"
   ]
  },
  {
   "cell_type": "code",
   "execution_count": 23,
   "metadata": {},
   "outputs": [
    {
     "data": {
      "image/png": "[encoded data removed]",
      "text/plain": [
       "<Figure size 720x360 with 1 Axes>"
      ]
     },
     "metadata": {},
     "output_type": "display_data"
    }
   ],
   "source": [
    "plt.figure(figsize=(10,5))\n",
    "sns.countplot(data=df, y='pedestrian_movement', palette = 'Dark2')\n",
    "plt.xticks(fontsize=12)\n",
    "plt.yticks(fontsize=12)\n",
    "plt.title('Pedestrian Movement', fontsize=14)\n",
    "plt.xlabel('')\n",
    "plt.ylabel('')\n",
    "plt.tight_layout()"
   ]
  },
  {
   "cell_type": "code",
   "execution_count": 24,
   "metadata": {},
   "outputs": [
    {
     "data": {
      "image/png": "[encoded data removed]",
      "text/plain": [
       "<Figure size 720x360 with 1 Axes>"
      ]
     },
     "metadata": {},
     "output_type": "display_data"
    }
   ],
   "source": [
    "plt.figure(figsize=(10,5))\n",
    "sns.countplot(data=df, y='hour')\n",
    "plt.xticks(fontsize=12)\n",
    "plt.yticks(fontsize=12)\n",
    "plt.title('Hour', fontsize=14)\n",
    "plt.xlabel('')\n",
    "plt.ylabel('')\n",
    "plt.tight_layout()"
   ]
  },
  {
   "cell_type": "code",
   "execution_count": 25,
   "metadata": {},
   "outputs": [
    {
     "data": {
      "image/png": "[encoded data removed]",
      "text/plain": [
       "<Figure size 720x1080 with 1 Axes>"
      ]
     },
     "metadata": {},
     "output_type": "display_data"
    }
   ],
   "source": [
    "plt.figure(figsize=(10,15))\n",
    "sns.countplot(data=df, y='minute')\n",
    "plt.xticks(fontsize=12)\n",
    "plt.yticks(fontsize=12)\n",
    "plt.title('Minute', fontsize=14)\n",
    "plt.xlabel('')\n",
    "plt.ylabel('')\n",
    "plt.tight_layout()"
   ]
  },
  {
   "cell_type": "markdown",
   "metadata": {},
   "source": [
    "Observations:\n",
    "Accidents:\n",
    "---> Most of the accident involved 2 vehicles and 2 casualties\n",
    "--> Most of the accident held on 7AM - 8PM\n",
    "\n",
    "\n",
    "Drivers:\n",
    "---> Most of the drivers are male and age is 18-30 years\n",
    "----> All the drivers went to upto junior high school \n",
    "---> Drivers experience is  5-10years\n",
    "\n",
    "Casuality:\n",
    "\n",
    "--> Most of the casualities are Male and severity 3\n",
    "\n",
    "Most of the accident held in:\n",
    "\n",
    "--> Y shape junction\n",
    "--> Office areas\n",
    "--> Daylight\n",
    "--> Normal weather condition\n",
    "--> Vehicle vehicle collision\n",
    "--> Vehicle movement is staright\n",
    "--> Two way road (divided with broken lines road marking)\n",
    "--> Undivided two way road\n",
    "--> Road allignment if tangent with flat terrain\n"
   ]
  },
  {
   "cell_type": "markdown",
   "metadata": {},
   "source": [
    "Preprocessing"
   ]
  },
  {
   "cell_type": "code",
   "execution_count": 26,
   "metadata": {},
   "outputs": [
    {
     "data": {
      "text/plain": [
       "day_of_week                 0.000000\n",
       "driver_age                  0.000000\n",
       "driver_sex                  0.000000\n",
       "educational_level           6.016564\n",
       "vehicle_driver_relation     4.701202\n",
       "driving_experience          6.731082\n",
       "vehicle_type                7.713543\n",
       "vehicle_owner               3.913608\n",
       "service_year               31.893472\n",
       "vehicle_defect             35.945112\n",
       "accident_area               1.940565\n",
       "lanes                       3.126015\n",
       "road_allignment             1.152972\n",
       "junction_type               7.202014\n",
       "surface_type                1.396557\n",
       "road_surface_conditions     0.000000\n",
       "light_condition             0.000000\n",
       "weather_condition           0.000000\n",
       "collision_type              1.258525\n",
       "vehicles_involved           0.000000\n",
       "casualties                  0.000000\n",
       "vehicle_movement            2.500812\n",
       "casualty_class              0.000000\n",
       "casualty_sex                0.000000\n",
       "casualty_age                0.000000\n",
       "casualty_severity           0.000000\n",
       "casualty_work              25.966223\n",
       "casualty_fitness           21.394933\n",
       "pedestrian_movement         0.000000\n",
       "accident_cause              0.000000\n",
       "accident_severity           0.000000\n",
       "hour                        0.000000\n",
       "minute                      0.000000\n",
       "dtype: float64"
      ]
     },
     "execution_count": 26,
     "metadata": {},
     "output_type": "execute_result"
    }
   ],
   "source": [
    "#Checking null values\n",
    "df.isnull().sum()\n",
    "# Check the NA values\n",
    "100 * df.isnull().sum() / df.shape[0]"
   ]
  },
  {
   "cell_type": "code",
   "execution_count": 32,
   "metadata": {},
   "outputs": [],
   "source": [
    "#Dropping the unwanted columns and high null value columns (this can cause imbalance while imputation)\n",
    "df.drop(columns = ['vehicle_defect', 'vehicle_driver_relation', 'casualty_work', 'casualty_fitness','service_year','vehicle_owner'], inplace=True)"
   ]
  },
  {
   "cell_type": "code",
   "execution_count": 33,
   "metadata": {},
   "outputs": [],
   "source": [
    "impute_cols = [x for x in df.isna().sum()[df.isna().sum() != 0].index.tolist()]\n",
    "for i in impute_cols:\n",
    "    mode = df[i].mode()[0]\n",
    "    df[i].fillna(mode, inplace=True)"
   ]
  },
  {
   "cell_type": "code",
   "execution_count": 29,
   "metadata": {},
   "outputs": [
    {
     "data": {
      "text/plain": [
       "day_of_week                0\n",
       "driver_age                 0\n",
       "driver_sex                 0\n",
       "educational_level          0\n",
       "driving_experience         0\n",
       "vehicle_type               0\n",
       "accident_area              0\n",
       "lanes                      0\n",
       "road_allignment            0\n",
       "junction_type              0\n",
       "surface_type               0\n",
       "road_surface_conditions    0\n",
       "light_condition            0\n",
       "weather_condition          0\n",
       "collision_type             0\n",
       "vehicles_involved          0\n",
       "casualties                 0\n",
       "vehicle_movement           0\n",
       "casualty_class             0\n",
       "casualty_sex               0\n",
       "casualty_age               0\n",
       "casualty_severity          0\n",
       "pedestrian_movement        0\n",
       "accident_cause             0\n",
       "accident_severity          0\n",
       "hour                       0\n",
       "minute                     0\n",
       "dtype: int64"
      ]
     },
     "execution_count": 29,
     "metadata": {},
     "output_type": "execute_result"
    }
   ],
   "source": [
    "df.isna().sum()"
   ]
  },
  {
   "cell_type": "code",
   "execution_count": 34,
   "metadata": {},
   "outputs": [
    {
     "data": {
      "text/plain": [
       "(12316, 27)"
      ]
     },
     "execution_count": 34,
     "metadata": {},
     "output_type": "execute_result"
    }
   ],
   "source": [
    "#we have ordinal and nominal columns \n",
    "#we can perform ordinal encoding for both because for ordinal columns we need to encode order wise, for nominal no need to encode order wise, so we can perform ordinal coding since this will assign the numbers to that like nominal encoder\n",
    "\n",
    "def ordinal_encoder(df, feats): \n",
    "    for feat in feats:    \n",
    "        feat_val = list(1+np.arange(df[feat].nunique()))\n",
    "        feat_key = list(df[feat].sort_values().unique())\n",
    "        feat_dict = dict(zip(feat_key, feat_val))\n",
    "        df[feat] = df[feat].map(feat_dict)\n",
    "    return df\n",
    "\n",
    "df = ordinal_encoder(df, df.drop(['accident_severity'], axis=1).columns)\n",
    "df.shape\n"
   ]
  },
  {
   "cell_type": "code",
   "execution_count": 35,
   "metadata": {},
   "outputs": [
    {
     "data": {
      "text/plain": [
       "0         Slight Injury\n",
       "1         Slight Injury\n",
       "2        Serious Injury\n",
       "3         Slight Injury\n",
       "4         Slight Injury\n",
       "              ...      \n",
       "12311     Slight Injury\n",
       "12312     Slight Injury\n",
       "12313    Serious Injury\n",
       "12314     Slight Injury\n",
       "12315     Slight Injury\n",
       "Name: accident_severity, Length: 12316, dtype: object"
      ]
     },
     "execution_count": 35,
     "metadata": {},
     "output_type": "execute_result"
    }
   ],
   "source": [
    "df['accident_severity']"
   ]
  },
  {
   "cell_type": "code",
   "execution_count": 32,
   "metadata": {},
   "outputs": [
    {
     "data": {
      "text/plain": [
       "<AxesSubplot:>"
      ]
     },
     "execution_count": 32,
     "metadata": {},
     "output_type": "execute_result"
    },
    {
     "data": {
      "image/png": "[encoded data removed]",
      "text/plain": [
       "<Figure size 1584x1224 with 2 Axes>"
      ]
     },
     "metadata": {},
     "output_type": "display_data"
    }
   ],
   "source": [
    "plt.figure(figsize=(22,17))\n",
    "sns.set(font_scale=0.8)\n",
    "sns.heatmap(df.corr(), annot=True, cmap=plt.cm.CMRmap_r)"
   ]
  },
  {
   "cell_type": "markdown",
   "metadata": {},
   "source": [
    "Train Test split"
   ]
  },
  {
   "cell_type": "code",
   "execution_count": 36,
   "metadata": {},
   "outputs": [
    {
     "name": "stdout",
     "output_type": "stream",
     "text": [
      "(8621, 26) (3695, 26) (8621,) (3695,)\n"
     ]
    }
   ],
   "source": [
    "x = df.drop('accident_severity', axis = 1)\n",
    "y = df['accident_severity']\n",
    "\n",
    "X_train,X_test,y_train,y_test = train_test_split(x,y,test_size = 0.3, random_state = 22)\n",
    "print(X_train.shape, X_test.shape, y_train.shape, y_test.shape)"
   ]
  },
  {
   "cell_type": "code",
   "execution_count": 56,
   "metadata": {},
   "outputs": [
    {
     "name": "stdout",
     "output_type": "stream",
     "text": [
      "<bound method Series.unique of 0        3\n",
      "1        2\n",
      "2        3\n",
      "3        3\n",
      "4        3\n",
      "        ..\n",
      "21805    2\n",
      "21806    2\n",
      "21807    2\n",
      "21808    2\n",
      "21809    2\n",
      "Name: accident_severity, Length: 21810, dtype: int32>\n"
     ]
    }
   ],
   "source": [
    "print(y_train.unique)"
   ]
  },
  {
   "cell_type": "code",
   "execution_count": 42,
   "metadata": {},
   "outputs": [
    {
     "name": "stdout",
     "output_type": "stream",
     "text": [
      "Collecting imblearn\n",
      "  Downloading imblearn-0.0-py2.py3-none-any.whl (1.9 kB)\n",
      "Collecting imbalanced-learn\n",
      "  Downloading imbalanced_learn-0.9.1-py3-none-any.whl (199 kB)\n",
      "Requirement already satisfied: numpy>=1.17.3 in c:\\users\\karthick\\anaconda3\\lib\\site-packages (from imbalanced-learn->imblearn) (1.21.5)\n",
      "Requirement already satisfied: scipy>=1.3.2 in c:\\users\\karthick\\anaconda3\\lib\\site-packages (from imbalanced-learn->imblearn) (1.7.3)\n",
      "Collecting scikit-learn>=1.1.0\n",
      "  Downloading scikit_learn-1.1.2-cp39-cp39-win_amd64.whl (7.4 MB)\n",
      "Requirement already satisfied: joblib>=1.0.0 in c:\\users\\karthick\\anaconda3\\lib\\site-packages (from imbalanced-learn->imblearn) (1.1.0)\n",
      "Requirement already satisfied: threadpoolctl>=2.0.0 in c:\\users\\karthick\\anaconda3\\lib\\site-packages (from imbalanced-learn->imblearn) (2.2.0)\n",
      "Installing collected packages: scikit-learn, imbalanced-learn, imblearn\n",
      "  Attempting uninstall: scikit-learn\n",
      "    Found existing installation: scikit-learn 1.0.2\n",
      "    Uninstalling scikit-learn-1.0.2:\n",
      "      Successfully uninstalled scikit-learn-1.0.2\n",
      "Successfully installed imbalanced-learn-0.9.1 imblearn-0.0 scikit-learn-1.1.2\n",
      "Note: you may need to restart the kernel to use updated packages.\n"
     ]
    }
   ],
   "source": [
    "pip install imblearn"
   ]
  },
  {
   "cell_type": "code",
   "execution_count": 43,
   "metadata": {},
   "outputs": [],
   "source": [
    "from imblearn.over_sampling import SMOTE"
   ]
  },
  {
   "cell_type": "code",
   "execution_count": 44,
   "metadata": {},
   "outputs": [
    {
     "name": "stdout",
     "output_type": "stream",
     "text": [
      "=============================\n",
      "Class= Slight Injury, n=7270 (84.33%)\n",
      "Class= Serious Injury, n=1242 (14.41%)\n",
      "Class= Fatal injury, n=109 (1.26%)\n",
      "=============================\n",
      "Class= Slight Injury, n=7270 (33.33%)\n",
      "Class= Serious Injury, n=7270 (33.33%)\n",
      "Class= Fatal injury, n=7270 (33.33%)\n",
      "=============================\n",
      "Upsampled data shape:  (21810, 26) (21810,)\n"
     ]
    }
   ],
   "source": [
    "# upsampling using smote\n",
    "\n",
    "counter = Counter(y_train)\n",
    "\n",
    "print(\"=============================\")\n",
    "\n",
    "for k,v in counter.items():\n",
    "    per = 100*v/len(y_train)\n",
    "    print(f\"Class= {k}, n={v} ({per:.2f}%)\")\n",
    "\n",
    "oversample = SMOTE()\n",
    "X_train, y_train = oversample.fit_resample(X_train, y_train)\n",
    "\n",
    "counter = Counter(y_train)\n",
    "\n",
    "print(\"=============================\")\n",
    "\n",
    "for k,v in counter.items():\n",
    "    per = 100*v/len(y_train)\n",
    "    print(f\"Class= {k}, n={v} ({per:.2f}%)\")\n",
    "\n",
    "print(\"=============================\")\n",
    "\n",
    "print(\"Upsampled data shape: \", X_train.shape, y_train.shape)"
   ]
  },
  {
   "cell_type": "markdown",
   "metadata": {},
   "source": [
    "Baseline models"
   ]
  },
  {
   "cell_type": "code",
   "execution_count": 45,
   "metadata": {},
   "outputs": [],
   "source": [
    "y_test = ordinal_encoder(pd.DataFrame(y_test, columns = ['accident_severity']), pd.DataFrame(y_test, columns = ['accident_severity']).columns)['accident_severity']\n",
    "y_train = ordinal_encoder(pd.DataFrame(y_train, columns = ['accident_severity']), pd.DataFrame(y_train, columns = ['accident_severity']).columns)['accident_severity']"
   ]
  },
  {
   "cell_type": "code",
   "execution_count": 52,
   "metadata": {},
   "outputs": [
    {
     "data": {
      "text/plain": [
       "<bound method Series.unique of 7825     3\n",
       "4201     3\n",
       "2224     3\n",
       "10161    3\n",
       "3893     3\n",
       "        ..\n",
       "4716     3\n",
       "709      3\n",
       "5531     3\n",
       "8819     2\n",
       "3039     3\n",
       "Name: accident_severity, Length: 3695, dtype: int32>"
      ]
     },
     "execution_count": 52,
     "metadata": {},
     "output_type": "execute_result"
    }
   ],
   "source": [
    "y_test.unique"
   ]
  },
  {
   "cell_type": "code",
   "execution_count": 16,
   "metadata": {},
   "outputs": [],
   "source": [
    "import time"
   ]
  },
  {
   "cell_type": "code",
   "execution_count": 57,
   "metadata": {},
   "outputs": [],
   "source": [
    "def modelling(X_train, y_train, X_test, y_test, **kwargs):\n",
    "    scores = {}\n",
    "    models = []\n",
    "    if 'xgb' in kwargs.keys() and kwargs['xgb']:\n",
    "        xgb = XGBClassifier()\n",
    "        xgb.fit(X_train._get_numeric_data(), np.ravel(y_train, order='C'))\n",
    "        y_pred = xgb.predict(X_test._get_numeric_data())\n",
    "        scores['xgb']= [accuracy_score(y_test, y_pred)]\n",
    "#         scores['xgb']['roc_auc'] = roc_auc_score(y_test, y_pred)\n",
    "\n",
    "    if 'rf' in kwargs.keys() and kwargs['rf']:\n",
    "        rf = RandomForestClassifier(n_estimators=200)\n",
    "        rf.fit(X_train, y_train)\n",
    "        y_pred = rf.predict(X_test)\n",
    "        scores['rf']= [accuracy_score(y_test, y_pred)]\n",
    "#         scores['rf']['roc_auc'] = roc_auc_score(y_test, y_pred)\n",
    "        models.append(rf)\n",
    "\n",
    "    if 'extree' in kwargs.keys() and kwargs['extree']:\n",
    "        extree = ExtraTreesClassifier()\n",
    "        extree.fit(X_train, y_train)\n",
    "        y_pred = extree.predict(X_test)\n",
    "        scores['extree'] = [accuracy_score(y_test, y_pred)]\n",
    "#         scores['extree']['roc_auc'] = roc_auc_score(y_test, y_pred)\n",
    "        models.append(extree)\n",
    "        \n",
    "    return scores"
   ]
  },
  {
   "cell_type": "code",
   "execution_count": 66,
   "metadata": {},
   "outputs": [
    {
     "data": {
      "text/plain": [
       "{'rf': [0.8113667117726657], 'extree': [0.8235453315290934]}"
      ]
     },
     "execution_count": 66,
     "metadata": {},
     "output_type": "execute_result"
    }
   ],
   "source": [
    "modelling(X_train,y_train, X_test, y_test, xgb=False, rf=True, extree=True)"
   ]
  },
  {
   "cell_type": "markdown",
   "metadata": {},
   "source": [
    "Feature selection for better accuracy"
   ]
  },
  {
   "cell_type": "code",
   "execution_count": 67,
   "metadata": {},
   "outputs": [
    {
     "data": {
      "text/plain": [
       "'fs = SelectKBest(score_func=chi2, k=\\'20\\')\\nfs.fit(X_train,y_train)\\nfeature_score = pd.DataFrame({\"score\":fs.scores_,\"P_value\":np.round(fs.pvalues_,3)},index = X_train.columns)   \\nfeature_score.nlargest(n=17, columns=\\'score\\') \\nfeatures_scores = feature_score[feature_score[\"score\"]>70]\\nfinal =feature_score[feature_score[\"score\"]>70]\\nfinal = features_scores.index.values.tolist()'"
      ]
     },
     "execution_count": 67,
     "metadata": {},
     "output_type": "execute_result"
    }
   ],
   "source": [
    "fs = SelectKBest(score_func=chi2, k=10)\n",
    "\n",
    "\"\"\"fs = SelectKBest(score_func=chi2, k='20')\n",
    "fs.fit(X_train,y_train)\n",
    "feature_score = pd.DataFrame({\"score\":fs.scores_,\"P_value\":np.round(fs.pvalues_,3)},index = X_train.columns)   \n",
    "feature_score.nlargest(n=17, columns='score') \n",
    "features_scores = feature_score[feature_score[\"score\"]>70]\n",
    "final =feature_score[feature_score[\"score\"]>70]\n",
    "final = features_scores.index.values.tolist()\"\"\""
   ]
  },
  {
   "cell_type": "code",
   "execution_count": 68,
   "metadata": {},
   "outputs": [],
   "source": [
    "X_train_new = fs.fit_transform(X_train, y_train)\n",
    "X_test_new = fs.fit_transform(X_test,y_test)"
   ]
  },
  {
   "cell_type": "markdown",
   "metadata": {},
   "source": [
    "#Extratreeclasiifier gives the better accuracy than all = 82.11"
   ]
  },
  {
   "cell_type": "code",
   "execution_count": 69,
   "metadata": {},
   "outputs": [],
   "source": [
    "def modelling(X_train_new, y_train, X_test_new, y_test, **kwargs):\n",
    "    scores = {}\n",
    "    models = []\n",
    "    if 'xgb' in kwargs.keys() and kwargs['xgb']:\n",
    "        xgb = XGBClassifier()\n",
    "        xgb.fit(X_train._get_numeric_data(), np.ravel(y_train, order='C'))\n",
    "        y_pred = xgb.predict(X_test._get_numeric_data())\n",
    "        scores['xgb']= [accuracy_score(y_test, y_pred)]\n",
    "#         scores['xgb']['roc_auc'] = roc_auc_score(y_test, y_pred)\n",
    "\n",
    "    if 'rf' in kwargs.keys() and kwargs['rf']:\n",
    "        rf = RandomForestClassifier(n_estimators=200)\n",
    "        rf.fit(X_train, y_train)\n",
    "        y_pred = rf.predict(X_test)\n",
    "        scores['rf']= [accuracy_score(y_test, y_pred)]\n",
    "#         scores['rf']['roc_auc'] = roc_auc_score(y_test, y_pred)\n",
    "        models.append(rf)\n",
    "\n",
    "    if 'extree' in kwargs.keys() and kwargs['extree']:\n",
    "        extree = ExtraTreesClassifier()\n",
    "        extree.fit(X_train, y_train)\n",
    "        y_pred = extree.predict(X_test)\n",
    "        scores['extree'] = [accuracy_score(y_test, y_pred)]\n",
    "#         scores['extree']['roc_auc'] = roc_auc_score(y_test, y_pred)\n",
    "        models.append(extree)\n",
    "        \n",
    "    return scores"
   ]
  },
  {
   "cell_type": "markdown",
   "metadata": {},
   "source": [
    "{'xgb': [0.813531799729364],\n",
    " 'rf': [0.8070365358592693],\n",
    " 'extree': [0.8262516914749661]}"
   ]
  },
  {
   "cell_type": "code",
   "execution_count": 70,
   "metadata": {},
   "outputs": [
    {
     "data": {
      "text/plain": [
       "{'rf': [0.808660351826793], 'extree': [0.8238159675236807]}"
      ]
     },
     "execution_count": 70,
     "metadata": {},
     "output_type": "execute_result"
    }
   ],
   "source": [
    "modelling(X_train_new,y_train, X_test_new, y_test, xgb=False, rf=True, extree=True)"
   ]
  },
  {
   "cell_type": "markdown",
   "metadata": {},
   "source": [
    "After several tuning also we not getting better accuracy than previous so we can gohead with that."
   ]
  },
  {
   "cell_type": "code",
   "execution_count": 71,
   "metadata": {},
   "outputs": [],
   "source": [
    "def model_performance(model, y_test, y_hat) : \n",
    "    conf_matrix = confusion_matrix(y_test, y_hat)\n",
    "    trace1 = go.Heatmap(z = conf_matrix  ,x = [\"0 (pred)\",\"1 (pred)\", \"2 (pred)\"],\n",
    "                        y = [\"0 (true)\",\"1 (true)\", \"2 (true)\"],xgap = 2, ygap = 2, \n",
    "                        colorscale = 'Viridis', showscale  = False)\n",
    "\n",
    "    #Show metrics\n",
    "    Accuracy  =  accuracy_score(y_test, y_hat)\n",
    "    Precision =  precision_score(y_test, y_pred, average= 'weighted')\n",
    "    Recall    =  recall_score(y_test, y_pred, average= 'weighted')\n",
    "    F1_score  =  f1_score(y_test, y_pred, average= 'weighted')\n",
    "\n",
    "    show_metrics = pd.DataFrame(data=[[Accuracy , Precision, Recall, F1_score]])\n",
    "    show_metrics = show_metrics.T\n",
    "\n",
    "    colors = ['gold', 'lightgreen', 'lightcoral', 'lightskyblue']\n",
    "    trace2 = go.Bar(x = (show_metrics[0].values), \n",
    "                   y = ['Accuracy', 'Precision', 'Recall', 'F1_score'], text = np.round_(show_metrics[0].values,4),\n",
    "                    textposition = 'auto',\n",
    "                   orientation = 'h', opacity = 0.8,marker=dict(\n",
    "            color=colors,\n",
    "            line=dict(color='#000000',width=1.5)))\n",
    " \n",
    "     \n",
    "    #plots\n",
    "    model = model\n",
    "    \n",
    "    #Subplots\n",
    "    fig = tls.make_subplots(rows=2, cols=1, print_grid=False, \n",
    "                          subplot_titles=('Confusion Matrix',\n",
    "                                        'Metrics',\n",
    "                                        ))\n",
    "    \n",
    "    fig.append_trace(trace1,1,1)\n",
    "    fig.append_trace(trace2,2,1)\n",
    "    \n",
    "    fig['layout'].update(showlegend = False, title = '<b>Model performance report</b><br>'+str(model),\n",
    "                        autosize = True, height = 800,width = 800,\n",
    "                        plot_bgcolor = 'rgba(240,240,240, 0.95)',\n",
    "                        paper_bgcolor = 'rgba(240,240,240, 0.95)',\n",
    "                        # margin = dict(b = 100)\n",
    "                        )\n",
    "    fig.layout.titlefont.size = 14\n",
    "    \n",
    "    py.iplot(fig)"
   ]
  },
  {
   "cell_type": "code",
   "execution_count": 72,
   "metadata": {},
   "outputs": [],
   "source": [
    "extree = ExtraTreesClassifier()\n",
    "extree.fit(X_train, y_train)\n",
    "y_pred = extree.predict(X_test)"
   ]
  },
  {
   "cell_type": "code",
   "execution_count": 73,
   "metadata": {},
   "outputs": [
    {
     "data": {
      "text/plain": [
       "{'bootstrap': False,\n",
       " 'ccp_alpha': 0.0,\n",
       " 'class_weight': None,\n",
       " 'criterion': 'gini',\n",
       " 'max_depth': None,\n",
       " 'max_features': 'auto',\n",
       " 'max_leaf_nodes': None,\n",
       " 'max_samples': None,\n",
       " 'min_impurity_decrease': 0.0,\n",
       " 'min_samples_leaf': 1,\n",
       " 'min_samples_split': 2,\n",
       " 'min_weight_fraction_leaf': 0.0,\n",
       " 'n_estimators': 100,\n",
       " 'n_jobs': None,\n",
       " 'oob_score': False,\n",
       " 'random_state': None,\n",
       " 'verbose': 0,\n",
       " 'warm_start': False}"
      ]
     },
     "execution_count": 73,
     "metadata": {},
     "output_type": "execute_result"
    }
   ],
   "source": [
    "extree.get_params()"
   ]
  },
  {
   "cell_type": "code",
   "execution_count": 49,
   "metadata": {},
   "outputs": [
    {
     "data": {
      "application/vnd.plotly.v1+json": {
       "config": {
        "linkText": "Export to plot.ly",
        "plotlyServerURL": "https://plot.ly",
        "showLink": false
       },
       "data": [
        {
         "colorscale": [
          [
           0,
           "#440154"
          ],
          [
           0.1111111111111111,
           "#482878"
          ],
          [
           0.2222222222222222,
           "#3e4989"
          ],
          [
           0.3333333333333333,
           "#31688e"
          ],
          [
           0.4444444444444444,
           "#26828e"
          ],
          [
           0.5555555555555556,
           "#1f9e89"
          ],
          [
           0.6666666666666666,
           "#35b779"
          ],
          [
           0.7777777777777778,
           "#6ece58"
          ],
          [
           0.8888888888888888,
           "#b5de2b"
          ],
          [
           1,
           "#fde725"
          ]
         ],
         "showscale": false,
         "type": "heatmap",
         "x": [
          "0 (pred)",
          "1 (pred)",
          "2 (pred)"
         ],
         "xaxis": "x",
         "xgap": 2,
         "y": [
          "0 (true)",
          "1 (true)",
          "2 (true)"
         ],
         "yaxis": "y",
         "ygap": 2,
         "z": [
          [
           2,
           3,
           44
          ],
          [
           0,
           90,
           411
          ],
          [
           1,
           207,
           2937
          ]
         ]
        },
        {
         "marker": {
          "color": [
           "gold",
           "lightgreen",
           "lightcoral",
           "lightskyblue"
          ],
          "line": {
           "color": "#000000",
           "width": 1.5
          }
         },
         "opacity": 0.8,
         "orientation": "h",
         "text": [
          0.8198,
          0.7865,
          0.8198,
          0.7963
         ],
         "textposition": "auto",
         "type": "bar",
         "x": [
          0.8197564276048714,
          0.786495003234015,
          0.8197564276048714,
          0.7963137213246209
         ],
         "xaxis": "x2",
         "y": [
          "Accuracy",
          "Precision",
          "Recall",
          "F1_score"
         ],
         "yaxis": "y2"
        }
       ],
       "layout": {
        "annotations": [
         {
          "font": {
           "size": 16
          },
          "showarrow": false,
          "text": "Confusion Matrix",
          "x": 0.5,
          "xanchor": "center",
          "xref": "paper",
          "y": 1,
          "yanchor": "bottom",
          "yref": "paper"
         },
         {
          "font": {
           "size": 16
          },
          "showarrow": false,
          "text": "Metrics",
          "x": 0.5,
          "xanchor": "center",
          "xref": "paper",
          "y": 0.375,
          "yanchor": "bottom",
          "yref": "paper"
         }
        ],
        "autosize": true,
        "height": 800,
        "paper_bgcolor": "rgba(240,240,240, 0.95)",
        "plot_bgcolor": "rgba(240,240,240, 0.95)",
        "showlegend": false,
        "template": {
         "data": {
          "bar": [
           {
            "error_x": {
             "color": "#2a3f5f"
            },
            "error_y": {
             "color": "#2a3f5f"
            },
            "marker": {
             "line": {
              "color": "#E5ECF6",
              "width": 0.5
             },
             "pattern": {
              "fillmode": "overlay",
              "size": 10,
              "solidity": 0.2
             }
            },
            "type": "bar"
           }
          ],
          "barpolar": [
           {
            "marker": {
             "line": {
              "color": "#E5ECF6",
              "width": 0.5
             },
             "pattern": {
              "fillmode": "overlay",
              "size": 10,
              "solidity": 0.2
             }
            },
            "type": "barpolar"
           }
          ],
          "carpet": [
           {
            "aaxis": {
             "endlinecolor": "#2a3f5f",
             "gridcolor": "white",
             "linecolor": "white",
             "minorgridcolor": "white",
             "startlinecolor": "#2a3f5f"
            },
            "baxis": {
             "endlinecolor": "#2a3f5f",
             "gridcolor": "white",
             "linecolor": "white",
             "minorgridcolor": "white",
             "startlinecolor": "#2a3f5f"
            },
            "type": "carpet"
           }
          ],
          "choropleth": [
           {
            "colorbar": {
             "outlinewidth": 0,
             "ticks": ""
            },
            "type": "choropleth"
           }
          ],
          "contour": [
           {
            "colorbar": {
             "outlinewidth": 0,
             "ticks": ""
            },
            "colorscale": [
             [
              0,
              "#0d0887"
             ],
             [
              0.1111111111111111,
              "#46039f"
             ],
             [
              0.2222222222222222,
              "#7201a8"
             ],
             [
              0.3333333333333333,
              "#9c179e"
             ],
             [
              0.4444444444444444,
              "#bd3786"
             ],
             [
              0.5555555555555556,
              "#d8576b"
             ],
             [
              0.6666666666666666,
              "#ed7953"
             ],
             [
              0.7777777777777778,
              "#fb9f3a"
             ],
             [
              0.8888888888888888,
              "#fdca26"
             ],
             [
              1,
              "#f0f921"
             ]
            ],
            "type": "contour"
           }
          ],
          "contourcarpet": [
           {
            "colorbar": {
             "outlinewidth": 0,
             "ticks": ""
            },
            "type": "contourcarpet"
           }
          ],
          "heatmap": [
           {
            "colorbar": {
             "outlinewidth": 0,
             "ticks": ""
            },
            "colorscale": [
             [
              0,
              "#0d0887"
             ],
             [
              0.1111111111111111,
              "#46039f"
             ],
             [
              0.2222222222222222,
              "#7201a8"
             ],
             [
              0.3333333333333333,
              "#9c179e"
             ],
             [
              0.4444444444444444,
              "#bd3786"
             ],
             [
              0.5555555555555556,
              "#d8576b"
             ],
             [
              0.6666666666666666,
              "#ed7953"
             ],
             [
              0.7777777777777778,
              "#fb9f3a"
             ],
             [
              0.8888888888888888,
              "#fdca26"
             ],
             [
              1,
              "#f0f921"
             ]
            ],
            "type": "heatmap"
           }
          ],
          "heatmapgl": [
           {
            "colorbar": {
             "outlinewidth": 0,
             "ticks": ""
            },
            "colorscale": [
             [
              0,
              "#0d0887"
             ],
             [
              0.1111111111111111,
              "#46039f"
             ],
             [
              0.2222222222222222,
              "#7201a8"
             ],
             [
              0.3333333333333333,
              "#9c179e"
             ],
             [
              0.4444444444444444,
              "#bd3786"
             ],
             [
              0.5555555555555556,
              "#d8576b"
             ],
             [
              0.6666666666666666,
              "#ed7953"
             ],
             [
              0.7777777777777778,
              "#fb9f3a"
             ],
             [
              0.8888888888888888,
              "#fdca26"
             ],
             [
              1,
              "#f0f921"
             ]
            ],
            "type": "heatmapgl"
           }
          ],
          "histogram": [
           {
            "marker": {
             "pattern": {
              "fillmode": "overlay",
              "size": 10,
              "solidity": 0.2
             }
            },
            "type": "histogram"
           }
          ],
          "histogram2d": [
           {
            "colorbar": {
             "outlinewidth": 0,
             "ticks": ""
            },
            "colorscale": [
             [
              0,
              "#0d0887"
             ],
             [
              0.1111111111111111,
              "#46039f"
             ],
             [
              0.2222222222222222,
              "#7201a8"
             ],
             [
              0.3333333333333333,
              "#9c179e"
             ],
             [
              0.4444444444444444,
              "#bd3786"
             ],
             [
              0.5555555555555556,
              "#d8576b"
             ],
             [
              0.6666666666666666,
              "#ed7953"
             ],
             [
              0.7777777777777778,
              "#fb9f3a"
             ],
             [
              0.8888888888888888,
              "#fdca26"
             ],
             [
              1,
              "#f0f921"
             ]
            ],
            "type": "histogram2d"
           }
          ],
          "histogram2dcontour": [
           {
            "colorbar": {
             "outlinewidth": 0,
             "ticks": ""
            },
            "colorscale": [
             [
              0,
              "#0d0887"
             ],
             [
              0.1111111111111111,
              "#46039f"
             ],
             [
              0.2222222222222222,
              "#7201a8"
             ],
             [
              0.3333333333333333,
              "#9c179e"
             ],
             [
              0.4444444444444444,
              "#bd3786"
             ],
             [
              0.5555555555555556,
              "#d8576b"
             ],
             [
              0.6666666666666666,
              "#ed7953"
             ],
             [
              0.7777777777777778,
              "#fb9f3a"
             ],
             [
              0.8888888888888888,
              "#fdca26"
             ],
             [
              1,
              "#f0f921"
             ]
            ],
            "type": "histogram2dcontour"
           }
          ],
          "mesh3d": [
           {
            "colorbar": {
             "outlinewidth": 0,
             "ticks": ""
            },
            "type": "mesh3d"
           }
          ],
          "parcoords": [
           {
            "line": {
             "colorbar": {
              "outlinewidth": 0,
              "ticks": ""
             }
            },
            "type": "parcoords"
           }
          ],
          "pie": [
           {
            "automargin": true,
            "type": "pie"
           }
          ],
          "scatter": [
           {
            "marker": {
             "colorbar": {
              "outlinewidth": 0,
              "ticks": ""
             }
            },
            "type": "scatter"
           }
          ],
          "scatter3d": [
           {
            "line": {
             "colorbar": {
              "outlinewidth": 0,
              "ticks": ""
             }
            },
            "marker": {
             "colorbar": {
              "outlinewidth": 0,
              "ticks": ""
             }
            },
            "type": "scatter3d"
           }
          ],
          "scattercarpet": [
           {
            "marker": {
             "colorbar": {
              "outlinewidth": 0,
              "ticks": ""
             }
            },
            "type": "scattercarpet"
           }
          ],
          "scattergeo": [
           {
            "marker": {
             "colorbar": {
              "outlinewidth": 0,
              "ticks": ""
             }
            },
            "type": "scattergeo"
           }
          ],
          "scattergl": [
           {
            "marker": {
             "colorbar": {
              "outlinewidth": 0,
              "ticks": ""
             }
            },
            "type": "scattergl"
           }
          ],
          "scattermapbox": [
           {
            "marker": {
             "colorbar": {
              "outlinewidth": 0,
              "ticks": ""
             }
            },
            "type": "scattermapbox"
           }
          ],
          "scatterpolar": [
           {
            "marker": {
             "colorbar": {
              "outlinewidth": 0,
              "ticks": ""
             }
            },
            "type": "scatterpolar"
           }
          ],
          "scatterpolargl": [
           {
            "marker": {
             "colorbar": {
              "outlinewidth": 0,
              "ticks": ""
             }
            },
            "type": "scatterpolargl"
           }
          ],
          "scatterternary": [
           {
            "marker": {
             "colorbar": {
              "outlinewidth": 0,
              "ticks": ""
             }
            },
            "type": "scatterternary"
           }
          ],
          "surface": [
           {
            "colorbar": {
             "outlinewidth": 0,
             "ticks": ""
            },
            "colorscale": [
             [
              0,
              "#0d0887"
             ],
             [
              0.1111111111111111,
              "#46039f"
             ],
             [
              0.2222222222222222,
              "#7201a8"
             ],
             [
              0.3333333333333333,
              "#9c179e"
             ],
             [
              0.4444444444444444,
              "#bd3786"
             ],
             [
              0.5555555555555556,
              "#d8576b"
             ],
             [
              0.6666666666666666,
              "#ed7953"
             ],
             [
              0.7777777777777778,
              "#fb9f3a"
             ],
             [
              0.8888888888888888,
              "#fdca26"
             ],
             [
              1,
              "#f0f921"
             ]
            ],
            "type": "surface"
           }
          ],
          "table": [
           {
            "cells": {
             "fill": {
              "color": "#EBF0F8"
             },
             "line": {
              "color": "white"
             }
            },
            "header": {
             "fill": {
              "color": "#C8D4E3"
             },
             "line": {
              "color": "white"
             }
            },
            "type": "table"
           }
          ]
         },
         "layout": {
          "annotationdefaults": {
           "arrowcolor": "#2a3f5f",
           "arrowhead": 0,
           "arrowwidth": 1
          },
          "autotypenumbers": "strict",
          "coloraxis": {
           "colorbar": {
            "outlinewidth": 0,
            "ticks": ""
           }
          },
          "colorscale": {
           "diverging": [
            [
             0,
             "#8e0152"
            ],
            [
             0.1,
             "#c51b7d"
            ],
            [
             0.2,
             "#de77ae"
            ],
            [
             0.3,
             "#f1b6da"
            ],
            [
             0.4,
             "#fde0ef"
            ],
            [
             0.5,
             "#f7f7f7"
            ],
            [
             0.6,
             "#e6f5d0"
            ],
            [
             0.7,
             "#b8e186"
            ],
            [
             0.8,
             "#7fbc41"
            ],
            [
             0.9,
             "#4d9221"
            ],
            [
             1,
             "#276419"
            ]
           ],
           "sequential": [
            [
             0,
             "#0d0887"
            ],
            [
             0.1111111111111111,
             "#46039f"
            ],
            [
             0.2222222222222222,
             "#7201a8"
            ],
            [
             0.3333333333333333,
             "#9c179e"
            ],
            [
             0.4444444444444444,
             "#bd3786"
            ],
            [
             0.5555555555555556,
             "#d8576b"
            ],
            [
             0.6666666666666666,
             "#ed7953"
            ],
            [
             0.7777777777777778,
             "#fb9f3a"
            ],
            [
             0.8888888888888888,
             "#fdca26"
            ],
            [
             1,
             "#f0f921"
            ]
           ],
           "sequentialminus": [
            [
             0,
             "#0d0887"
            ],
            [
             0.1111111111111111,
             "#46039f"
            ],
            [
             0.2222222222222222,
             "#7201a8"
            ],
            [
             0.3333333333333333,
             "#9c179e"
            ],
            [
             0.4444444444444444,
             "#bd3786"
            ],
            [
             0.5555555555555556,
             "#d8576b"
            ],
            [
             0.6666666666666666,
             "#ed7953"
            ],
            [
             0.7777777777777778,
             "#fb9f3a"
            ],
            [
             0.8888888888888888,
             "#fdca26"
            ],
            [
             1,
             "#f0f921"
            ]
           ]
          },
          "colorway": [
           "#636efa",
           "#EF553B",
           "#00cc96",
           "#ab63fa",
           "#FFA15A",
           "#19d3f3",
           "#FF6692",
           "#B6E880",
           "#FF97FF",
           "#FECB52"
          ],
          "font": {
           "color": "#2a3f5f"
          },
          "geo": {
           "bgcolor": "white",
           "lakecolor": "white",
           "landcolor": "#E5ECF6",
           "showlakes": true,
           "showland": true,
           "subunitcolor": "white"
          },
          "hoverlabel": {
           "align": "left"
          },
          "hovermode": "closest",
          "mapbox": {
           "style": "light"
          },
          "paper_bgcolor": "white",
          "plot_bgcolor": "#E5ECF6",
          "polar": {
           "angularaxis": {
            "gridcolor": "white",
            "linecolor": "white",
            "ticks": ""
           },
           "bgcolor": "#E5ECF6",
           "radialaxis": {
            "gridcolor": "white",
            "linecolor": "white",
            "ticks": ""
           }
          },
          "scene": {
           "xaxis": {
            "backgroundcolor": "#E5ECF6",
            "gridcolor": "white",
            "gridwidth": 2,
            "linecolor": "white",
            "showbackground": true,
            "ticks": "",
            "zerolinecolor": "white"
           },
           "yaxis": {
            "backgroundcolor": "#E5ECF6",
            "gridcolor": "white",
            "gridwidth": 2,
            "linecolor": "white",
            "showbackground": true,
            "ticks": "",
            "zerolinecolor": "white"
           },
           "zaxis": {
            "backgroundcolor": "#E5ECF6",
            "gridcolor": "white",
            "gridwidth": 2,
            "linecolor": "white",
            "showbackground": true,
            "ticks": "",
            "zerolinecolor": "white"
           }
          },
          "shapedefaults": {
           "line": {
            "color": "#2a3f5f"
           }
          },
          "ternary": {
           "aaxis": {
            "gridcolor": "white",
            "linecolor": "white",
            "ticks": ""
           },
           "baxis": {
            "gridcolor": "white",
            "linecolor": "white",
            "ticks": ""
           },
           "bgcolor": "#E5ECF6",
           "caxis": {
            "gridcolor": "white",
            "linecolor": "white",
            "ticks": ""
           }
          },
          "title": {
           "x": 0.05
          },
          "xaxis": {
           "automargin": true,
           "gridcolor": "white",
           "linecolor": "white",
           "ticks": "",
           "title": {
            "standoff": 15
           },
           "zerolinecolor": "white",
           "zerolinewidth": 2
          },
          "yaxis": {
           "automargin": true,
           "gridcolor": "white",
           "linecolor": "white",
           "ticks": "",
           "title": {
            "standoff": 15
           },
           "zerolinecolor": "white",
           "zerolinewidth": 2
          }
         }
        },
        "title": {
         "font": {
          "size": 14
         },
         "text": "<b>Model performance report</b><br>ExtraTreesClassifier()"
        },
        "width": 800,
        "xaxis": {
         "anchor": "y",
         "domain": [
          0,
          1
         ]
        },
        "xaxis2": {
         "anchor": "y2",
         "domain": [
          0,
          1
         ]
        },
        "yaxis": {
         "anchor": "x",
         "domain": [
          0.625,
          1
         ]
        },
        "yaxis2": {
         "anchor": "x2",
         "domain": [
          0,
          0.375
         ]
        }
       }
      }
     },
     "metadata": {},
     "output_type": "display_data"
    }
   ],
   "source": [
    "model_performance(extree,y_test, y_pred)"
   ]
  },
  {
   "cell_type": "markdown",
   "metadata": {},
   "source": [
    "Hyperparameter tuning "
   ]
  },
  {
   "cell_type": "code",
   "execution_count": 74,
   "metadata": {},
   "outputs": [
    {
     "name": "stdout",
     "output_type": "stream",
     "text": [
      "Fitting 3 folds for each of 32 candidates, totalling 96 fits\n"
     ]
    },
    {
     "data": {
      "text/plain": [
       "({'ccp_alpha': 0.0,\n",
       "  'criterion': 'gini',\n",
       "  'max_depth': 11,\n",
       "  'min_samples_split': 3,\n",
       "  'n_estimators': 300},\n",
       " 0.7760819908976792)"
      ]
     },
     "execution_count": 74,
     "metadata": {},
     "output_type": "execute_result"
    }
   ],
   "source": [
    "gkf = KFold(n_splits=3, shuffle=True, random_state=42).split(X=X_train, y=y_train)\n",
    "\n",
    "# A parameter grid for XGBoost\n",
    "params = {\n",
    "    'n_estimators': range(100, 500, 100),\n",
    "    'ccp_alpha': [0.0, 0.1],\n",
    "    'criterion': ['gini'],\n",
    "    'max_depth': [5,11],\n",
    "    'min_samples_split': [2,3],\n",
    "}\n",
    "\n",
    "extree_estimator = ExtraTreesClassifier()\n",
    "\n",
    "gsearch = GridSearchCV(\n",
    "    estimator= extree_estimator,\n",
    "    param_grid= params,\n",
    "    scoring='f1_weighted',\n",
    "    n_jobs=-1,\n",
    "    cv=gkf,\n",
    "    verbose=3,\n",
    ")\n",
    "\n",
    "extree_model = gsearch.fit(X=X_train_new, y=y_train)\n",
    "(gsearch.best_params_, gsearch.best_score_)\n"
   ]
  },
  {
   "cell_type": "code",
   "execution_count": 75,
   "metadata": {},
   "outputs": [
    {
     "name": "stdout",
     "output_type": "stream",
     "text": [
      "Fitting 3 folds for each of 32 candidates, totalling 96 fits\n"
     ]
    },
    {
     "data": {
      "text/plain": [
       "({'class_weight': 'balanced',\n",
       "  'max_depth': 15,\n",
       "  'min_samples_split': 2,\n",
       "  'n_estimators': 700},\n",
       " 0.8431889513412297)"
      ]
     },
     "execution_count": 75,
     "metadata": {},
     "output_type": "execute_result"
    }
   ],
   "source": [
    "gkf2 = KFold(n_splits=3, shuffle=True, random_state=101).split(X=X_train, y=y_train)\n",
    "\n",
    "params2 = {\n",
    "    'n_estimators': range(400, 800, 100),\n",
    "    'max_depth': [11,15],\n",
    "    'min_samples_split': [2,3],\n",
    "    'class_weight': ['balanced', None],\n",
    "\n",
    "}\n",
    "\n",
    "extree2 = ExtraTreesClassifier(ccp_alpha = 0.0,\n",
    "                                criterion = 'gini',\n",
    "                                max_depth = 15,\n",
    "                                min_samples_split = 3,\n",
    "                                n_estimators = 400)\n",
    "\n",
    "gsearch2 = GridSearchCV(\n",
    "    estimator= extree2,\n",
    "    param_grid= params2,\n",
    "    scoring='f1_weighted',\n",
    "    n_jobs=-1,\n",
    "    cv=gkf2,\n",
    "    verbose=3,\n",
    ")\n",
    "\n",
    "extree_model2 = gsearch2.fit(X=X_train_new, y=y_train)\n",
    "\n",
    "  \n",
    "(gsearch2.best_params_, gsearch2.best_score_)\n"
   ]
  },
  {
   "cell_type": "code",
   "execution_count": 76,
   "metadata": {},
   "outputs": [],
   "source": [
    "model = ExtraTreesClassifier(ccp_alpha = 0.0,\n",
    "                                criterion = 'gini',\n",
    "                                min_samples_split = 2,\n",
    "                                class_weight = 'balanced',\n",
    "                                max_depth = 15,\n",
    "                                n_estimators = 400)\n",
    "\n",
    "model.fit(X_train_new, y_train)\n",
    "y_pred_tuned = model.predict(X_test_new)"
   ]
  },
  {
   "cell_type": "code",
   "execution_count": 77,
   "metadata": {},
   "outputs": [
    {
     "data": {
      "text/plain": [
       "['Extratreeclassifier_model.joblib']"
      ]
     },
     "execution_count": 77,
     "metadata": {},
     "output_type": "execute_result"
    }
   ],
   "source": [
    "import joblib\n",
    "joblib.dump(model, 'Extratreeclassifier_model.joblib')"
   ]
  },
  {
   "cell_type": "code",
   "execution_count": 1,
   "metadata": {},
   "outputs": [
    {
     "ename": "SyntaxError",
     "evalue": "(unicode error) 'unicodeescape' codec can't decode bytes in position 2-3: truncated \\UXXXXXXXX escape (767906568.py, line 1)",
     "output_type": "error",
     "traceback": [
      "\u001b[1;36m  Input \u001b[1;32mIn [1]\u001b[1;36m\u001b[0m\n\u001b[1;33m    random=joblib.load(\"C:\\Users\\Karthick\\NLP\\RTA-project1-main\\Notebook\\Extratreeclassifier_model.joblib\")\u001b[0m\n\u001b[1;37m                                                                                                          ^\u001b[0m\n\u001b[1;31mSyntaxError\u001b[0m\u001b[1;31m:\u001b[0m (unicode error) 'unicodeescape' codec can't decode bytes in position 2-3: truncated \\UXXXXXXXX escape\n"
     ]
    }
   ],
   "source": [
    "random=joblib.load(\"C:\\Users\\Karthick\\NLP\\RTA-project1-main\\Notebook\\Extratreeclassifier_model.joblib\")"
   ]
  },
  {
   "cell_type": "code",
   "execution_count": null,
   "metadata": {},
   "outputs": [],
   "source": []
  },
  {
   "cell_type": "code",
   "execution_count": null,
   "metadata": {},
   "outputs": [],
   "source": []
  },
  {
   "cell_type": "code",
   "execution_count": null,
   "metadata": {},
   "outputs": [],
   "source": []
  },
  {
   "cell_type": "code",
   "execution_count": null,
   "metadata": {},
   "outputs": [],
   "source": []
  },
  {
   "cell_type": "code",
   "execution_count": null,
   "metadata": {},
   "outputs": [],
   "source": []
  }
 ],
 "metadata": {
  "kernelspec": {
   "display_name": "Python 3.9.12 ('base')",
   "language": "python",
   "name": "python3"
  },
  "language_info": {
   "codemirror_mode": {
    "name": "ipython",
    "version": 3
   },
   "file_extension": ".py",
   "mimetype": "text/x-python",
   "name": "python",
   "nbconvert_exporter": "python",
   "pygments_lexer": "ipython3",
   "version": "3.9.12"
  },
  "vscode": {
   "interpreter": {
    "hash": "61d6566714c4bbac3dbe8b54cc0a5358529cb3ee416c2ac4526e2a6adbd07847"
   }
  }
 },
 "nbformat": 4,
 "nbformat_minor": 2
}
